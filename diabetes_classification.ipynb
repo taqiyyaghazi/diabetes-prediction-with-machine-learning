{
  "nbformat": 4,
  "nbformat_minor": 0,
  "metadata": {
    "colab": {
      "name": "KNN.ipynb",
      "provenance": [],
      "collapsed_sections": []
    },
    "kernelspec": {
      "name": "python3",
      "display_name": "Python 3"
    },
    "language_info": {
      "name": "python"
    }
  },
  "cells": [
    {
      "cell_type": "markdown",
      "metadata": {
        "id": "5AWSoga4LDuZ"
      },
      "source": [
        "# Import Package"
      ]
    },
    {
      "cell_type": "code",
      "metadata": {
        "id": "k2iKxY-u7UPv"
      },
      "source": [
        "## Import Packages\n",
        "import pandas as pd\n",
        "import seaborn as sns\n",
        "import matplotlib.pyplot as plt\n",
        "import numpy as np\n",
        "import os\n",
        "from sklearn.metrics import confusion_matrix,roc_curve,roc_auc_score\n",
        "%matplotlib inline"
      ],
      "execution_count": 44,
      "outputs": []
    },
    {
      "cell_type": "markdown",
      "metadata": {
        "id": "N23A8j3zF3H9"
      },
      "source": [
        "# Import Data"
      ]
    },
    {
      "cell_type": "code",
      "metadata": {
        "id": "ij8ksFMG7ZK_"
      },
      "source": [
        "# import data diabetes\n",
        "dataset = pd.read_csv(\"https://raw.githubusercontent.com/taqiyyaghazi/knn_diabetes/main/diabetes.csv\")"
      ],
      "execution_count": 2,
      "outputs": []
    },
    {
      "cell_type": "code",
      "metadata": {
        "colab": {
          "base_uri": "https://localhost:8080/",
          "height": 204
        },
        "id": "ZfvxtHIh7lHl",
        "outputId": "4182fef9-21f0-4460-c0a8-789eab84d201"
      },
      "source": [
        "# Melihat 5 data awal\n",
        "dataset.head()"
      ],
      "execution_count": 3,
      "outputs": [
        {
          "output_type": "execute_result",
          "data": {
            "text/html": [
              "<div>\n",
              "<style scoped>\n",
              "    .dataframe tbody tr th:only-of-type {\n",
              "        vertical-align: middle;\n",
              "    }\n",
              "\n",
              "    .dataframe tbody tr th {\n",
              "        vertical-align: top;\n",
              "    }\n",
              "\n",
              "    .dataframe thead th {\n",
              "        text-align: right;\n",
              "    }\n",
              "</style>\n",
              "<table border=\"1\" class=\"dataframe\">\n",
              "  <thead>\n",
              "    <tr style=\"text-align: right;\">\n",
              "      <th></th>\n",
              "      <th>Pregnancies</th>\n",
              "      <th>Glucose</th>\n",
              "      <th>BloodPressure</th>\n",
              "      <th>SkinThickness</th>\n",
              "      <th>Insulin</th>\n",
              "      <th>BMI</th>\n",
              "      <th>DiabetesPedigreeFunction</th>\n",
              "      <th>Age</th>\n",
              "      <th>Outcome</th>\n",
              "    </tr>\n",
              "  </thead>\n",
              "  <tbody>\n",
              "    <tr>\n",
              "      <th>0</th>\n",
              "      <td>6</td>\n",
              "      <td>148</td>\n",
              "      <td>72</td>\n",
              "      <td>35</td>\n",
              "      <td>0</td>\n",
              "      <td>33.6</td>\n",
              "      <td>0.627</td>\n",
              "      <td>50</td>\n",
              "      <td>1</td>\n",
              "    </tr>\n",
              "    <tr>\n",
              "      <th>1</th>\n",
              "      <td>1</td>\n",
              "      <td>85</td>\n",
              "      <td>66</td>\n",
              "      <td>29</td>\n",
              "      <td>0</td>\n",
              "      <td>26.6</td>\n",
              "      <td>0.351</td>\n",
              "      <td>31</td>\n",
              "      <td>0</td>\n",
              "    </tr>\n",
              "    <tr>\n",
              "      <th>2</th>\n",
              "      <td>8</td>\n",
              "      <td>183</td>\n",
              "      <td>64</td>\n",
              "      <td>0</td>\n",
              "      <td>0</td>\n",
              "      <td>23.3</td>\n",
              "      <td>0.672</td>\n",
              "      <td>32</td>\n",
              "      <td>1</td>\n",
              "    </tr>\n",
              "    <tr>\n",
              "      <th>3</th>\n",
              "      <td>1</td>\n",
              "      <td>89</td>\n",
              "      <td>66</td>\n",
              "      <td>23</td>\n",
              "      <td>94</td>\n",
              "      <td>28.1</td>\n",
              "      <td>0.167</td>\n",
              "      <td>21</td>\n",
              "      <td>0</td>\n",
              "    </tr>\n",
              "    <tr>\n",
              "      <th>4</th>\n",
              "      <td>0</td>\n",
              "      <td>137</td>\n",
              "      <td>40</td>\n",
              "      <td>35</td>\n",
              "      <td>168</td>\n",
              "      <td>43.1</td>\n",
              "      <td>2.288</td>\n",
              "      <td>33</td>\n",
              "      <td>1</td>\n",
              "    </tr>\n",
              "  </tbody>\n",
              "</table>\n",
              "</div>"
            ],
            "text/plain": [
              "   Pregnancies  Glucose  BloodPressure  ...  DiabetesPedigreeFunction  Age  Outcome\n",
              "0            6      148             72  ...                     0.627   50        1\n",
              "1            1       85             66  ...                     0.351   31        0\n",
              "2            8      183             64  ...                     0.672   32        1\n",
              "3            1       89             66  ...                     0.167   21        0\n",
              "4            0      137             40  ...                     2.288   33        1\n",
              "\n",
              "[5 rows x 9 columns]"
            ]
          },
          "metadata": {},
          "execution_count": 3
        }
      ]
    },
    {
      "cell_type": "code",
      "metadata": {
        "colab": {
          "base_uri": "https://localhost:8080/"
        },
        "id": "qsbJabdeLQXd",
        "outputId": "95b6e20d-fc37-4e2d-8279-d1ee0bb402e5"
      },
      "source": [
        "dataset['Outcome'].value_counts()"
      ],
      "execution_count": 4,
      "outputs": [
        {
          "output_type": "execute_result",
          "data": {
            "text/plain": [
              "0    500\n",
              "1    268\n",
              "Name: Outcome, dtype: int64"
            ]
          },
          "metadata": {},
          "execution_count": 4
        }
      ]
    },
    {
      "cell_type": "code",
      "metadata": {
        "colab": {
          "base_uri": "https://localhost:8080/"
        },
        "id": "KyuSXkT7Lhw9",
        "outputId": "9a0d7952-a138-4a48-a76f-04ef028edb0b"
      },
      "source": [
        "dataset.columns"
      ],
      "execution_count": 5,
      "outputs": [
        {
          "output_type": "execute_result",
          "data": {
            "text/plain": [
              "Index(['Pregnancies', 'Glucose', 'BloodPressure', 'SkinThickness', 'Insulin',\n",
              "       'BMI', 'DiabetesPedigreeFunction', 'Age', 'Outcome'],\n",
              "      dtype='object')"
            ]
          },
          "metadata": {},
          "execution_count": 5
        }
      ]
    },
    {
      "cell_type": "markdown",
      "metadata": {
        "id": "nXuhgzP4L9jV"
      },
      "source": [
        "# Data Preparation"
      ]
    },
    {
      "cell_type": "markdown",
      "metadata": {
        "id": "3u4SSmrZNhh7"
      },
      "source": [
        "## Cek Missing Value"
      ]
    },
    {
      "cell_type": "code",
      "metadata": {
        "colab": {
          "base_uri": "https://localhost:8080/"
        },
        "id": "GnxIKoQmL1jF",
        "outputId": "f28e33cf-d7c1-4350-9636-1ec214c014e0"
      },
      "source": [
        "dataset.isnull().sum()"
      ],
      "execution_count": 6,
      "outputs": [
        {
          "output_type": "execute_result",
          "data": {
            "text/plain": [
              "Pregnancies                 0\n",
              "Glucose                     0\n",
              "BloodPressure               0\n",
              "SkinThickness               0\n",
              "Insulin                     0\n",
              "BMI                         0\n",
              "DiabetesPedigreeFunction    0\n",
              "Age                         0\n",
              "Outcome                     0\n",
              "dtype: int64"
            ]
          },
          "metadata": {},
          "execution_count": 6
        }
      ]
    },
    {
      "cell_type": "markdown",
      "metadata": {
        "id": "Orieed2iNmvj"
      },
      "source": [
        "## Cek Tipe Data"
      ]
    },
    {
      "cell_type": "code",
      "metadata": {
        "colab": {
          "base_uri": "https://localhost:8080/"
        },
        "id": "RUXXI2WxMBPq",
        "outputId": "e62d8403-6bf9-4482-eda1-2f141999f281"
      },
      "source": [
        "dataset.dtypes"
      ],
      "execution_count": 7,
      "outputs": [
        {
          "output_type": "execute_result",
          "data": {
            "text/plain": [
              "Pregnancies                   int64\n",
              "Glucose                       int64\n",
              "BloodPressure                 int64\n",
              "SkinThickness                 int64\n",
              "Insulin                       int64\n",
              "BMI                         float64\n",
              "DiabetesPedigreeFunction    float64\n",
              "Age                           int64\n",
              "Outcome                       int64\n",
              "dtype: object"
            ]
          },
          "metadata": {},
          "execution_count": 7
        }
      ]
    },
    {
      "cell_type": "markdown",
      "metadata": {
        "id": "VBwh9e4YOOL8"
      },
      "source": [
        "## Cek Data Outlier"
      ]
    },
    {
      "cell_type": "markdown",
      "metadata": {
        "id": "he2adPTePb73"
      },
      "source": [
        "### Nilai Outlier dengan Boxplot"
      ]
    },
    {
      "cell_type": "code",
      "metadata": {
        "colab": {
          "base_uri": "https://localhost:8080/",
          "height": 558
        },
        "id": "JnL_u74YNsEM",
        "outputId": "6f19c1ca-e82b-4181-c549-603947835c02"
      },
      "source": [
        "cols = ['Pregnancies', 'Glucose', 'BloodPressure', 'SkinThickness', 'Insulin',\n",
        "       'BMI', 'DiabetesPedigreeFunction', 'Age']\n",
        "plt.figure(figsize=(19,9))\n",
        "dataset[cols].boxplot()\n",
        "plt.title(\"Variabel Numerik di Dataset Diabetes\", fontsize=20)\n",
        "plt.show()"
      ],
      "execution_count": 8,
      "outputs": [
        {
          "output_type": "display_data",
          "data": {
            "image/png": "[encoded data removed]",
            "text/plain": [
              "<Figure size 1368x648 with 1 Axes>"
            ]
          },
          "metadata": {
            "needs_background": "light"
          }
        }
      ]
    },
    {
      "cell_type": "markdown",
      "metadata": {
        "id": "kG9oMVekPmIA"
      },
      "source": [
        "### Nilai Outlier dengan Z-Score\n",
        "\n",
        "Sumber : https://www.analyticsvidhya.com/blog/2021/05/detecting-and-treating-outliers-treating-the-odd-one-out/"
      ]
    },
    {
      "cell_type": "code",
      "metadata": {
        "colab": {
          "base_uri": "https://localhost:8080/"
        },
        "id": "g0qhaEK3OSxS",
        "outputId": "5e08c86b-ae92-41bf-a80a-1abe6eb6fb11"
      },
      "source": [
        "def detect_outliers_zscore(data):\n",
        "    outliers = []\n",
        "    thres = 3\n",
        "    mean = np.mean(data)\n",
        "    std = np.std(data)\n",
        "    # print(mean, std)\n",
        "    for i in data:\n",
        "        z_score = (i-mean)/std\n",
        "        if (np.abs(z_score) > thres):\n",
        "            outliers.append(i)\n",
        "    return outliers\n",
        "data_outlier = {}\n",
        "for col in cols:\n",
        "  data_outlier[col] = detect_outliers_zscore(dataset[col])\n",
        "  print(\"Outliers from Z-scores method (\", col, \")\", len(data_outlier[col]), \"outlier :\", data_outlier[col])\n",
        "\n"
      ],
      "execution_count": 9,
      "outputs": [
        {
          "output_type": "stream",
          "name": "stdout",
          "text": [
            "Outliers from Z-scores method ( Pregnancies ) 4 outlier : [15, 17, 14, 14]\n",
            "Outliers from Z-scores method ( Glucose ) 5 outlier : [0, 0, 0, 0, 0]\n",
            "Outliers from Z-scores method ( BloodPressure ) 35 outlier : [0, 0, 0, 0, 0, 0, 0, 0, 0, 0, 0, 0, 0, 0, 0, 0, 0, 0, 0, 0, 0, 0, 0, 0, 0, 0, 0, 0, 0, 0, 0, 0, 0, 0, 0]\n",
            "Outliers from Z-scores method ( SkinThickness ) 1 outlier : [99]\n",
            "Outliers from Z-scores method ( Insulin ) 18 outlier : [543, 846, 495, 485, 495, 478, 744, 680, 545, 465, 579, 474, 480, 600, 440, 540, 480, 510]\n",
            "Outliers from Z-scores method ( BMI ) 14 outlier : [0.0, 0.0, 0.0, 0.0, 0.0, 67.1, 0.0, 0.0, 59.4, 0.0, 0.0, 57.3, 0.0, 0.0]\n",
            "Outliers from Z-scores method ( DiabetesPedigreeFunction ) 11 outlier : [2.2880000000000003, 1.893, 1.781, 2.329, 1.476, 2.137, 1.7309999999999999, 1.6, 2.42, 1.699, 1.6980000000000002]\n",
            "Outliers from Z-scores method ( Age ) 5 outlier : [69, 72, 81, 70, 69]\n"
          ]
        }
      ]
    },
    {
      "cell_type": "markdown",
      "metadata": {
        "id": "384NHVlFSCPk"
      },
      "source": [
        "### Nilai Outlier dengan IQR"
      ]
    },
    {
      "cell_type": "code",
      "metadata": {
        "colab": {
          "base_uri": "https://localhost:8080/"
        },
        "id": "kzWSu1WaSFCb",
        "outputId": "491f6fe7-4da6-4fc0-a3c0-ea9d6dcf9f9b"
      },
      "source": [
        "\n",
        "def detect_outliers_iqr(data):\n",
        "    outliers = []\n",
        "    data = sorted(data)\n",
        "    q1 = np.percentile(data, 25)\n",
        "    q3 = np.percentile(data, 75)\n",
        "    # print(q1, q3)\n",
        "    IQR = q3-q1\n",
        "    lwr_bound = q1-(1.5*IQR)\n",
        "    upr_bound = q3+(1.5*IQR)\n",
        "    # print(lwr_bound, upr_bound)\n",
        "    for i in data: \n",
        "        if (i<lwr_bound or i>upr_bound):\n",
        "            outliers.append(i)\n",
        "    return outliers\n",
        "data_outlier = {}\n",
        "for col in cols:\n",
        "  data_outlier[col] = detect_outliers_iqr(dataset[col])\n",
        "  print(\"Outliers from Z-scores method (\", col, \")\", len(data_outlier[col]), \"outlier :\", data_outlier[col])"
      ],
      "execution_count": 10,
      "outputs": [
        {
          "output_type": "stream",
          "name": "stdout",
          "text": [
            "Outliers from Z-scores method ( Pregnancies ) 4 outlier : [14, 14, 15, 17]\n",
            "Outliers from Z-scores method ( Glucose ) 5 outlier : [0, 0, 0, 0, 0]\n",
            "Outliers from Z-scores method ( BloodPressure ) 45 outlier : [0, 0, 0, 0, 0, 0, 0, 0, 0, 0, 0, 0, 0, 0, 0, 0, 0, 0, 0, 0, 0, 0, 0, 0, 0, 0, 0, 0, 0, 0, 0, 0, 0, 0, 0, 24, 30, 30, 108, 108, 110, 110, 110, 114, 122]\n",
            "Outliers from Z-scores method ( SkinThickness ) 1 outlier : [99]\n",
            "Outliers from Z-scores method ( Insulin ) 34 outlier : [321, 325, 325, 325, 326, 328, 330, 335, 342, 360, 370, 375, 387, 392, 402, 415, 440, 465, 474, 478, 480, 480, 485, 495, 495, 510, 540, 543, 545, 579, 600, 680, 744, 846]\n",
            "Outliers from Z-scores method ( BMI ) 19 outlier : [0.0, 0.0, 0.0, 0.0, 0.0, 0.0, 0.0, 0.0, 0.0, 0.0, 0.0, 52.3, 52.3, 52.9, 53.2, 55.0, 57.3, 59.4, 67.1]\n",
            "Outliers from Z-scores method ( DiabetesPedigreeFunction ) 29 outlier : [1.213, 1.222, 1.224, 1.224, 1.251, 1.258, 1.268, 1.2819999999999998, 1.2919999999999998, 1.318, 1.321, 1.3530000000000002, 1.39, 1.391, 1.3940000000000001, 1.4, 1.4409999999999998, 1.4609999999999999, 1.476, 1.6, 1.6980000000000002, 1.699, 1.7309999999999999, 1.781, 1.893, 2.137, 2.2880000000000003, 2.329, 2.42]\n",
            "Outliers from Z-scores method ( Age ) 9 outlier : [67, 67, 67, 68, 69, 69, 70, 72, 81]\n"
          ]
        }
      ]
    },
    {
      "cell_type": "markdown",
      "metadata": {
        "id": "D3sunxLjhND_"
      },
      "source": [
        "## Imputasi Data Outlier"
      ]
    },
    {
      "cell_type": "markdown",
      "metadata": {
        "id": "CxjTHc2TlhrD"
      },
      "source": [
        "### Imputasi Data Outlier BloodPressure"
      ]
    },
    {
      "cell_type": "code",
      "metadata": {
        "colab": {
          "base_uri": "https://localhost:8080/"
        },
        "id": "kKuKq0GkY1AM",
        "outputId": "7250eeb6-72df-43bc-f8e9-93f1cd90bb8f"
      },
      "source": [
        "mean_blood = np.mean(dataset['BloodPressure'])\n",
        "mean_blood"
      ],
      "execution_count": 11,
      "outputs": [
        {
          "output_type": "execute_result",
          "data": {
            "text/plain": [
              "69.10546875"
            ]
          },
          "metadata": {},
          "execution_count": 11
        }
      ]
    },
    {
      "cell_type": "code",
      "metadata": {
        "id": "ozAxv12hh1qJ",
        "colab": {
          "base_uri": "https://localhost:8080/"
        },
        "outputId": "ecdeefcc-31ae-409e-e7d9-460890f316a7"
      },
      "source": [
        "for i in data_outlier['BloodPressure']:\n",
        "  dataset['BloodPressure'] = np.where(dataset['BloodPressure']==i, mean_blood, dataset['BloodPressure'])\n",
        "\n",
        "detect_outliers_iqr(dataset['BloodPressure'])"
      ],
      "execution_count": 12,
      "outputs": [
        {
          "output_type": "execute_result",
          "data": {
            "text/plain": [
              "[38.0, 106.0, 106.0, 106.0]"
            ]
          },
          "metadata": {},
          "execution_count": 12
        }
      ]
    },
    {
      "cell_type": "markdown",
      "metadata": {
        "id": "MEwo-jb8lp5Y"
      },
      "source": [
        "### Imputasi Data Outlier Insulin"
      ]
    },
    {
      "cell_type": "code",
      "metadata": {
        "id": "K-ApENbvlwag",
        "colab": {
          "base_uri": "https://localhost:8080/"
        },
        "outputId": "758a8e3e-5536-476c-c633-13bfe9af0ddf"
      },
      "source": [
        "median_insulin = np.median(dataset['Insulin'])\n",
        "median_insulin"
      ],
      "execution_count": 13,
      "outputs": [
        {
          "output_type": "execute_result",
          "data": {
            "text/plain": [
              "30.5"
            ]
          },
          "metadata": {},
          "execution_count": 13
        }
      ]
    },
    {
      "cell_type": "code",
      "metadata": {
        "id": "yTDuoCRjl6IR",
        "colab": {
          "base_uri": "https://localhost:8080/"
        },
        "outputId": "c21920d4-628e-42c8-8755-92ef5134de94"
      },
      "source": [
        "for i in data_outlier['Insulin']:\n",
        "  dataset['Insulin'] = np.where(dataset['Insulin']==i, median_insulin, dataset['Insulin'])\n",
        "\n",
        "detect_outliers_iqr(dataset['Insulin'])"
      ],
      "execution_count": 14,
      "outputs": [
        {
          "output_type": "execute_result",
          "data": {
            "text/plain": [
              "[277.0,\n",
              " 278.0,\n",
              " 280.0,\n",
              " 284.0,\n",
              " 285.0,\n",
              " 285.0,\n",
              " 291.0,\n",
              " 293.0,\n",
              " 293.0,\n",
              " 300.0,\n",
              " 304.0,\n",
              " 310.0,\n",
              " 318.0]"
            ]
          },
          "metadata": {},
          "execution_count": 14
        }
      ]
    },
    {
      "cell_type": "markdown",
      "metadata": {
        "id": "VqgXXXbwmzxP"
      },
      "source": [
        "### Imputasi Data Outlier Diabetes Pedigree Function"
      ]
    },
    {
      "cell_type": "code",
      "metadata": {
        "id": "DBJAXJq9nOV_",
        "colab": {
          "base_uri": "https://localhost:8080/"
        },
        "outputId": "3552d39e-f3fd-417d-c2f6-c40971aa482a"
      },
      "source": [
        "median_DPF = np.median(dataset['DiabetesPedigreeFunction'])\n",
        "median_DPF"
      ],
      "execution_count": 15,
      "outputs": [
        {
          "output_type": "execute_result",
          "data": {
            "text/plain": [
              "0.3725"
            ]
          },
          "metadata": {},
          "execution_count": 15
        }
      ]
    },
    {
      "cell_type": "code",
      "metadata": {
        "id": "KlgII96hnfyP",
        "colab": {
          "base_uri": "https://localhost:8080/"
        },
        "outputId": "64e42600-ab90-4238-a0be-c6a737c05873"
      },
      "source": [
        "for i in data_outlier['DiabetesPedigreeFunction']:\n",
        "  dataset['DiabetesPedigreeFunction'] = np.where(dataset['DiabetesPedigreeFunction']==i, median_DPF, dataset['DiabetesPedigreeFunction'])\n",
        "\n",
        "detect_outliers_iqr(dataset['DiabetesPedigreeFunction'])"
      ],
      "execution_count": 16,
      "outputs": [
        {
          "output_type": "execute_result",
          "data": {
            "text/plain": [
              "[1.095,\n",
              " 1.0959999999999999,\n",
              " 1.101,\n",
              " 1.114,\n",
              " 1.127,\n",
              " 1.136,\n",
              " 1.138,\n",
              " 1.1440000000000001,\n",
              " 1.1540000000000001,\n",
              " 1.159,\n",
              " 1.162,\n",
              " 1.1740000000000002,\n",
              " 1.182,\n",
              " 1.189,\n",
              " 1.1909999999999998]"
            ]
          },
          "metadata": {},
          "execution_count": 16
        }
      ]
    },
    {
      "cell_type": "markdown",
      "metadata": {
        "id": "PwKwkcTNoiFY"
      },
      "source": [
        "### Imputasi Data Outlier BMI"
      ]
    },
    {
      "cell_type": "code",
      "metadata": {
        "id": "7eh74bZporeL",
        "colab": {
          "base_uri": "https://localhost:8080/"
        },
        "outputId": "f553cd36-538d-4685-f36e-1aa5fdd4368d"
      },
      "source": [
        "mean_BMI = np.mean(dataset['BMI'])\n",
        "mean_BMI"
      ],
      "execution_count": 17,
      "outputs": [
        {
          "output_type": "execute_result",
          "data": {
            "text/plain": [
              "31.992578124999977"
            ]
          },
          "metadata": {},
          "execution_count": 17
        }
      ]
    },
    {
      "cell_type": "code",
      "metadata": {
        "id": "Z-EwkrOto4mb",
        "colab": {
          "base_uri": "https://localhost:8080/"
        },
        "outputId": "58beaa9b-7ddd-4e6e-d5d7-7d511fe28499"
      },
      "source": [
        "for i in data_outlier['BMI']:\n",
        "  dataset['BMI'] = np.where(dataset['BMI']==i, mean_BMI, dataset['BMI'])\n",
        "\n",
        "detect_outliers_iqr(dataset['BMI'])"
      ],
      "execution_count": 18,
      "outputs": [
        {
          "output_type": "execute_result",
          "data": {
            "text/plain": [
              "[49.6, 49.7, 50.0]"
            ]
          },
          "metadata": {},
          "execution_count": 18
        }
      ]
    },
    {
      "cell_type": "code",
      "metadata": {
        "id": "2tczHLrwlYPU",
        "colab": {
          "base_uri": "https://localhost:8080/",
          "height": 558
        },
        "outputId": "11a18a98-42b8-45ea-c119-adc6e4b02c28"
      },
      "source": [
        "plt.figure(figsize=(19,9))\n",
        "dataset[cols].boxplot()\n",
        "plt.title(\"Variabel Numerik di Dataset Diabetes\", fontsize=20)\n",
        "plt.show()"
      ],
      "execution_count": 19,
      "outputs": [
        {
          "output_type": "display_data",
          "data": {
            "image/png": "[encoded data removed]",
            "text/plain": [
              "<Figure size 1368x648 with 1 Axes>"
            ]
          },
          "metadata": {
            "needs_background": "light"
          }
        }
      ]
    },
    {
      "cell_type": "markdown",
      "metadata": {
        "id": "3tzgM9jkxq73"
      },
      "source": [
        "# Train Model\n",
        "\n"
      ]
    },
    {
      "cell_type": "markdown",
      "metadata": {
        "id": "alY0-HshJ95Q"
      },
      "source": [
        "# Data Split\n"
      ]
    },
    {
      "cell_type": "code",
      "metadata": {
        "id": "HFwhF86eH3H5"
      },
      "source": [
        "# Inisiasi variabel independen dan dependen\n",
        "X = dataset.drop('Outcome', axis=1)\n",
        "y = dataset['Outcome']"
      ],
      "execution_count": 20,
      "outputs": []
    },
    {
      "cell_type": "code",
      "metadata": {
        "id": "iTdBTBway0tD"
      },
      "source": [
        "# Mengubah data outlier\n",
        "# X.replace(to_replace=0, value=X.mean(), inplace=True)"
      ],
      "execution_count": 21,
      "outputs": []
    },
    {
      "cell_type": "code",
      "metadata": {
        "id": "G1c0lFCHJpgQ"
      },
      "source": [
        "# Import fungsi train_test_split \n",
        "from sklearn.model_selection import train_test_split\n",
        "\n",
        "# Membagi dataset ke training set and test set\n",
        "X_train, X_test, y_train, y_test = train_test_split(X, y, test_size=0.2, random_state=101) # 70% training and 30% test"
      ],
      "execution_count": 22,
      "outputs": []
    },
    {
      "cell_type": "markdown",
      "metadata": {
        "id": "2_Z9yPaJ1mNY"
      },
      "source": [
        "# Training Model\n"
      ]
    },
    {
      "cell_type": "code",
      "metadata": {
        "id": "mixDMOMjKNLb"
      },
      "source": [
        "# Import modul KNN\n",
        "from sklearn.neighbors import KNeighborsClassifier"
      ],
      "execution_count": 23,
      "outputs": []
    },
    {
      "cell_type": "code",
      "metadata": {
        "colab": {
          "base_uri": "https://localhost:8080/"
        },
        "id": "EEvaLR9LiqKu",
        "outputId": "9523f5d8-1226-48d2-8295-2b295d8a3ebe"
      },
      "source": [
        "# Melatih model dengan data training\n",
        "model = KNeighborsClassifier(n_neighbors=59, leaf_size=30)\n",
        "model.fit(X_train,y_train)"
      ],
      "execution_count": 26,
      "outputs": [
        {
          "output_type": "execute_result",
          "data": {
            "text/plain": [
              "KNeighborsClassifier(algorithm='auto', leaf_size=30, metric='minkowski',\n",
              "                     metric_params=None, n_jobs=None, n_neighbors=59, p=2,\n",
              "                     weights='uniform')"
            ]
          },
          "metadata": {},
          "execution_count": 26
        }
      ]
    },
    {
      "cell_type": "markdown",
      "metadata": {
        "id": "mDRp8Uq1LLiH"
      },
      "source": [
        "# Model Validation"
      ]
    },
    {
      "cell_type": "markdown",
      "metadata": {
        "id": "L1yFhT4_NMFl"
      },
      "source": [
        "## Basic Validation"
      ]
    },
    {
      "cell_type": "code",
      "metadata": {
        "id": "mjbUqa-dMgC-"
      },
      "source": [
        "def model_validation_metrics(confusion_matrix):\n",
        "  tn, fp, fn, tp = confusion_matrix.ravel()\n",
        "  return (tp+tn)/(tp+tn+fp+fn),tp/(tp+fp),tp/(tp+fn)\n",
        "\n",
        "def roc_curve_func(y_true,y_score):\n",
        "  # Compute fpr, tpr, thresholds and roc auc\n",
        "  fpr, tpr, thresholds = roc_curve(y_true, y_score)\n",
        "  roc_auc = roc_auc_score(y_true, y_score)\n",
        "\n",
        "  # Plot ROC curve\n",
        "  plt.plot(fpr, tpr, label='ROC curve (area = %0.3f)' % roc_auc)\n",
        "  plt.plot([0, 1], [0, 1], 'k--')  # random predictions curve\n",
        "  plt.xlim([0.0, 1.0])\n",
        "  plt.ylim([0.0, 1.0])\n",
        "  plt.xlabel('False Positive Rate or (1 - Specifity)')\n",
        "  plt.ylabel('True Positive Rate or (Sensitivity)')\n",
        "  plt.title('Receiver Operating Characteristic')\n",
        "  plt.legend(loc=\"lower right\")"
      ],
      "execution_count": 54,
      "outputs": []
    },
    {
      "cell_type": "code",
      "metadata": {
        "id": "PaBB3D10K447"
      },
      "source": [
        "y_train_pred=model.predict(X_train)\n",
        "y_train_pred_proba=model.predict_proba(X_train)[:,1]\n",
        "\n",
        "cm_train=confusion_matrix(y_train, y_train_pred)"
      ],
      "execution_count": 55,
      "outputs": []
    },
    {
      "cell_type": "code",
      "metadata": {
        "id": "KLfnsoUTLtR7",
        "outputId": "6a257222-5734-473b-9bf3-d019e8f25d75",
        "colab": {
          "base_uri": "https://localhost:8080/",
          "height": 391
        }
      },
      "source": [
        "plt.figure(figsize=(6,6))\n",
        "sns.heatmap(cm_train,annot=True,fmt=',.0f',linewidths=3, annot_kws={\"fontsize\":16})"
      ],
      "execution_count": 56,
      "outputs": [
        {
          "output_type": "execute_result",
          "data": {
            "text/plain": [
              "<matplotlib.axes._subplots.AxesSubplot at 0x7fd7c0beed50>"
            ]
          },
          "metadata": {},
          "execution_count": 56
        },
        {
          "output_type": "display_data",
          "data": {
            "image/png": "[encoded data removed]",
            "text/plain": [
              "<Figure size 432x432 with 2 Axes>"
            ]
          },
          "metadata": {
            "needs_background": "light"
          }
        }
      ]
    },
    {
      "cell_type": "code",
      "metadata": {
        "id": "YDosSwwbMDAu",
        "outputId": "fb663229-ff6f-4892-8bb3-164ba42874e8",
        "colab": {
          "base_uri": "https://localhost:8080/"
        }
      },
      "source": [
        "accuracy,precision,recall=model_validation_metrics(cm_train)\n",
        "print('Akurasi :', accuracy)\n",
        "print('Presisi', precision)\n",
        "print('Recall', recall)"
      ],
      "execution_count": 57,
      "outputs": [
        {
          "output_type": "stream",
          "name": "stdout",
          "text": [
            "Akurasi : 0.741042345276873\n",
            "Presisi 0.7013888888888888\n",
            "Recall 0.46543778801843316\n"
          ]
        }
      ]
    },
    {
      "cell_type": "code",
      "metadata": {
        "id": "o4C3rWFFMrSa",
        "outputId": "087feef2-badf-42b5-806f-8b214dd1e4d0",
        "colab": {
          "base_uri": "https://localhost:8080/",
          "height": 295
        }
      },
      "source": [
        "roc_curve_func(y_train,y_train_pred_proba)"
      ],
      "execution_count": 59,
      "outputs": [
        {
          "output_type": "display_data",
          "data": {
            "image/png": "[encoded data removed]",
            "text/plain": [
              "<Figure size 432x288 with 1 Axes>"
            ]
          },
          "metadata": {
            "needs_background": "light"
          }
        }
      ]
    },
    {
      "cell_type": "markdown",
      "metadata": {
        "id": "AGsIGq0CNO-u"
      },
      "source": [
        "## Cross-Validation"
      ]
    },
    {
      "cell_type": "code",
      "metadata": {
        "id": "u59SaENrNSfw"
      },
      "source": [
        "y_train_pred=model.predict(X_train)\n",
        "y_test_pred=model.predict(X_test)"
      ],
      "execution_count": 61,
      "outputs": []
    },
    {
      "cell_type": "code",
      "metadata": {
        "id": "7yfU40qrNaI6"
      },
      "source": [
        "cm_train=confusion_matrix(y_train, y_train_pred)\n",
        "cm_test=confusion_matrix(y_test, y_test_pred)"
      ],
      "execution_count": 62,
      "outputs": []
    },
    {
      "cell_type": "code",
      "metadata": {
        "id": "Vcp5KXR1NdA7"
      },
      "source": [
        "def basic_eval(tm,cm):\n",
        "  plt.figure(figsize=(6,6))\n",
        "  plt.title(tm+\" Evaluation\")\n",
        "  sns.heatmap(cm,annot=True,fmt=',.0f',linewidths=3, annot_kws={\"fontsize\":16})\n",
        "  accuracy,precision,recall=model_validation_metrics(cm)\n",
        "  print(\"accuracy :\",accuracy)\n",
        "  print(\"precision :\",precision)\n",
        "  print(\"recall :\",recall)"
      ],
      "execution_count": 63,
      "outputs": []
    },
    {
      "cell_type": "code",
      "metadata": {
        "id": "k5fEnDDyNgb7",
        "outputId": "5a611c29-f9d9-40c4-d10f-c3089ffd5629",
        "colab": {
          "base_uri": "https://localhost:8080/",
          "height": 441
        }
      },
      "source": [
        "basic_eval('Train',cm_train)"
      ],
      "execution_count": 64,
      "outputs": [
        {
          "output_type": "stream",
          "name": "stdout",
          "text": [
            "accuracy : 0.741042345276873\n",
            "precision : 0.7013888888888888\n",
            "recall : 0.46543778801843316\n"
          ]
        },
        {
          "output_type": "display_data",
          "data": {
            "image/png": "[encoded data removed]",
            "text/plain": [
              "<Figure size 432x432 with 2 Axes>"
            ]
          },
          "metadata": {
            "needs_background": "light"
          }
        }
      ]
    },
    {
      "cell_type": "code",
      "metadata": {
        "id": "sE0fhSdlNpvu",
        "outputId": "26210451-8d19-47ff-d6d4-b3495ff814cf",
        "colab": {
          "base_uri": "https://localhost:8080/",
          "height": 441
        }
      },
      "source": [
        "basic_eval('Test',cm_test)"
      ],
      "execution_count": 65,
      "outputs": [
        {
          "output_type": "stream",
          "name": "stdout",
          "text": [
            "accuracy : 0.7922077922077922\n",
            "precision : 0.7435897435897436\n",
            "recall : 0.5686274509803921\n"
          ]
        },
        {
          "output_type": "display_data",
          "data": {
            "image/png": "[encoded data removed]",
            "text/plain": [
              "<Figure size 432x432 with 2 Axes>"
            ]
          },
          "metadata": {
            "needs_background": "light"
          }
        }
      ]
    },
    {
      "cell_type": "markdown",
      "metadata": {
        "id": "yJ7_hRddN-AQ"
      },
      "source": [
        "## Bias-variance trade-off"
      ]
    },
    {
      "cell_type": "code",
      "metadata": {
        "id": "jGEexLXPOD4G"
      },
      "source": [
        "## Check on hyperparameter changing\n",
        "hyper_param_list=[x for x in range(1, 60)]"
      ],
      "execution_count": 89,
      "outputs": []
    },
    {
      "cell_type": "code",
      "metadata": {
        "id": "kTnpd5A2OHaW"
      },
      "source": [
        "df_trade_off=[]\n",
        "for md in hyper_param_list:\n",
        "  model_trade_off=KNeighborsClassifier(n_neighbors=md, weights='uniform', algorithm='auto', p=2)\n",
        "\n",
        "  # model_base=RandomForestClassifier(n_estimators=40, max_depth=md,min_samples_split=3)\n",
        "  # model_churn_trade_off=AdaBoostClassifier(base_estimator=model_base, n_estimators=15, learning_rate=0.2, random_state=321)  \n",
        "\n",
        "  model_trade_off.fit(X_train,y_train)\n",
        "  y_train_pred_temp=model_trade_off.predict(X_train)\n",
        "  y_test_pred_temp=model_trade_off.predict(X_test)\n",
        "  cm_train=confusion_matrix(y_train, y_train_pred_temp)\n",
        "  cm_test=confusion_matrix(y_test, y_test_pred_temp)\n",
        "  acc_train,p,r=model_validation_metrics(cm_train)\n",
        "  acc_test,p,r =model_validation_metrics(cm_test)\n",
        "  df_trade_off.append([acc_train,acc_test])\n",
        "df_trade_off=pd.DataFrame(df_trade_off,columns=['train_accuracy','test_accuracy'],index=hyper_param_list)"
      ],
      "execution_count": 99,
      "outputs": []
    },
    {
      "cell_type": "code",
      "metadata": {
        "id": "OQvzqR7jRkCp",
        "outputId": "f57fa0b5-6cc4-4e75-fec5-3436048d36d2",
        "colab": {
          "base_uri": "https://localhost:8080/",
          "height": 500
        }
      },
      "source": [
        "df_trade_off.plot(figsize=(15,8))"
      ],
      "execution_count": 102,
      "outputs": [
        {
          "output_type": "execute_result",
          "data": {
            "text/plain": [
              "<matplotlib.axes._subplots.AxesSubplot at 0x7fd7b7b83f50>"
            ]
          },
          "metadata": {},
          "execution_count": 102
        },
        {
          "output_type": "display_data",
          "data": {
            "image/png": "[encoded data removed]",
            "text/plain": [
              "<Figure size 1080x576 with 1 Axes>"
            ]
          },
          "metadata": {
            "needs_background": "light"
          }
        }
      ]
    },
    {
      "cell_type": "markdown",
      "metadata": {
        "id": "j44KP-V72J_g"
      },
      "source": [
        "# Accuracy Score"
      ]
    },
    {
      "cell_type": "code",
      "metadata": {
        "colab": {
          "base_uri": "https://localhost:8080/"
        },
        "id": "jY_NIFXzKh-b",
        "outputId": "01f93734-832f-4cce-d95c-07b06a577713"
      },
      "source": [
        "#Import modul scikit-learn metrics \n",
        "from sklearn import metrics\n",
        "# Model Accuracy\n",
        "print(\"Accuracy:\",metrics.accuracy_score(y_test, y_pred))"
      ],
      "execution_count": 52,
      "outputs": [
        {
          "output_type": "stream",
          "name": "stdout",
          "text": [
            "Accuracy: 0.7922077922077922\n"
          ]
        }
      ]
    },
    {
      "cell_type": "code",
      "metadata": {
        "id": "zqFxyFgAI5Pa",
        "outputId": "d2952144-26bd-48e0-c050-c324d7f6181f",
        "colab": {
          "base_uri": "https://localhost:8080/"
        }
      },
      "source": [
        "print(metrics.classification_report(y_test, y_pred))"
      ],
      "execution_count": 32,
      "outputs": [
        {
          "output_type": "stream",
          "name": "stdout",
          "text": [
            "              precision    recall  f1-score   support\n",
            "\n",
            "           0       0.81      0.90      0.85       103\n",
            "           1       0.74      0.57      0.64        51\n",
            "\n",
            "    accuracy                           0.79       154\n",
            "   macro avg       0.78      0.74      0.75       154\n",
            "weighted avg       0.79      0.79      0.78       154\n",
            "\n"
          ]
        }
      ]
    },
    {
      "cell_type": "code",
      "metadata": {
        "id": "Dj_RiPuHI7aD"
      },
      "source": [
        ""
      ],
      "execution_count": null,
      "outputs": []
    }
  ]
}