{
  "nbformat": 4,
  "nbformat_minor": 0,
  "metadata": {
    "colab": {
      "name": "KNN.ipynb",
      "provenance": [],
      "collapsed_sections": [],
      "toc_visible": true
    },
    "kernelspec": {
      "name": "python3",
      "display_name": "Python 3"
    },
    "language_info": {
      "name": "python"
    }
  },
  "cells": [
    {
      "cell_type": "markdown",
      "metadata": {
        "id": "5AWSoga4LDuZ"
      },
      "source": [
        "# Import Package"
      ]
    },
    {
      "cell_type": "code",
      "metadata": {
        "id": "k2iKxY-u7UPv"
      },
      "source": [
        "import pandas as pd\n",
        "import seaborn as sns\n",
        "import matplotlib.pyplot as plt\n",
        "import numpy as np\n",
        "import warnings\n",
        "import os\n",
        "from collections import Counter\n",
        "from sklearn.model_selection import train_test_split\n",
        "from sklearn.preprocessing import MinMaxScaler\n",
        "from sklearn.neighbors import KNeighborsClassifier\n",
        "from sklearn.metrics import confusion_matrix,roc_curve,roc_auc_score\n",
        "warnings.filterwarnings(\"ignore\")\n",
        "%matplotlib inline"
      ],
      "execution_count": 581,
      "outputs": []
    },
    {
      "cell_type": "markdown",
      "metadata": {
        "id": "N23A8j3zF3H9"
      },
      "source": [
        "# Import Data"
      ]
    },
    {
      "cell_type": "code",
      "metadata": {
        "id": "ij8ksFMG7ZK_"
      },
      "source": [
        "dataset = pd.read_csv(\"https://raw.githubusercontent.com/taqiyyaghazi/knn_diabetes/main/diabetes.csv\")"
      ],
      "execution_count": 582,
      "outputs": []
    },
    {
      "cell_type": "code",
      "metadata": {
        "colab": {
          "base_uri": "https://localhost:8080/",
          "height": 203
        },
        "id": "ZfvxtHIh7lHl",
        "outputId": "b8d3bfc0-caef-49ad-ddf9-0c0114224284"
      },
      "source": [
        "dataset.head()"
      ],
      "execution_count": 583,
      "outputs": [
        {
          "output_type": "execute_result",
          "data": {
            "text/html": [
              "<div>\n",
              "<style scoped>\n",
              "    .dataframe tbody tr th:only-of-type {\n",
              "        vertical-align: middle;\n",
              "    }\n",
              "\n",
              "    .dataframe tbody tr th {\n",
              "        vertical-align: top;\n",
              "    }\n",
              "\n",
              "    .dataframe thead th {\n",
              "        text-align: right;\n",
              "    }\n",
              "</style>\n",
              "<table border=\"1\" class=\"dataframe\">\n",
              "  <thead>\n",
              "    <tr style=\"text-align: right;\">\n",
              "      <th></th>\n",
              "      <th>Pregnancies</th>\n",
              "      <th>Glucose</th>\n",
              "      <th>BloodPressure</th>\n",
              "      <th>SkinThickness</th>\n",
              "      <th>Insulin</th>\n",
              "      <th>BMI</th>\n",
              "      <th>DiabetesPedigreeFunction</th>\n",
              "      <th>Age</th>\n",
              "      <th>Outcome</th>\n",
              "    </tr>\n",
              "  </thead>\n",
              "  <tbody>\n",
              "    <tr>\n",
              "      <th>0</th>\n",
              "      <td>6</td>\n",
              "      <td>148</td>\n",
              "      <td>72</td>\n",
              "      <td>35</td>\n",
              "      <td>0</td>\n",
              "      <td>33.6</td>\n",
              "      <td>0.627</td>\n",
              "      <td>50</td>\n",
              "      <td>1</td>\n",
              "    </tr>\n",
              "    <tr>\n",
              "      <th>1</th>\n",
              "      <td>1</td>\n",
              "      <td>85</td>\n",
              "      <td>66</td>\n",
              "      <td>29</td>\n",
              "      <td>0</td>\n",
              "      <td>26.6</td>\n",
              "      <td>0.351</td>\n",
              "      <td>31</td>\n",
              "      <td>0</td>\n",
              "    </tr>\n",
              "    <tr>\n",
              "      <th>2</th>\n",
              "      <td>8</td>\n",
              "      <td>183</td>\n",
              "      <td>64</td>\n",
              "      <td>0</td>\n",
              "      <td>0</td>\n",
              "      <td>23.3</td>\n",
              "      <td>0.672</td>\n",
              "      <td>32</td>\n",
              "      <td>1</td>\n",
              "    </tr>\n",
              "    <tr>\n",
              "      <th>3</th>\n",
              "      <td>1</td>\n",
              "      <td>89</td>\n",
              "      <td>66</td>\n",
              "      <td>23</td>\n",
              "      <td>94</td>\n",
              "      <td>28.1</td>\n",
              "      <td>0.167</td>\n",
              "      <td>21</td>\n",
              "      <td>0</td>\n",
              "    </tr>\n",
              "    <tr>\n",
              "      <th>4</th>\n",
              "      <td>0</td>\n",
              "      <td>137</td>\n",
              "      <td>40</td>\n",
              "      <td>35</td>\n",
              "      <td>168</td>\n",
              "      <td>43.1</td>\n",
              "      <td>2.288</td>\n",
              "      <td>33</td>\n",
              "      <td>1</td>\n",
              "    </tr>\n",
              "  </tbody>\n",
              "</table>\n",
              "</div>"
            ],
            "text/plain": [
              "   Pregnancies  Glucose  BloodPressure  ...  DiabetesPedigreeFunction  Age  Outcome\n",
              "0            6      148             72  ...                     0.627   50        1\n",
              "1            1       85             66  ...                     0.351   31        0\n",
              "2            8      183             64  ...                     0.672   32        1\n",
              "3            1       89             66  ...                     0.167   21        0\n",
              "4            0      137             40  ...                     2.288   33        1\n",
              "\n",
              "[5 rows x 9 columns]"
            ]
          },
          "metadata": {},
          "execution_count": 583
        }
      ]
    },
    {
      "cell_type": "code",
      "metadata": {
        "colab": {
          "base_uri": "https://localhost:8080/"
        },
        "id": "qsbJabdeLQXd",
        "outputId": "de3bbe14-dd47-4d9c-f9fa-d064ed421caa"
      },
      "source": [
        "dataset['Outcome'].value_counts()"
      ],
      "execution_count": 584,
      "outputs": [
        {
          "output_type": "execute_result",
          "data": {
            "text/plain": [
              "0    500\n",
              "1    268\n",
              "Name: Outcome, dtype: int64"
            ]
          },
          "metadata": {},
          "execution_count": 584
        }
      ]
    },
    {
      "cell_type": "code",
      "metadata": {
        "colab": {
          "base_uri": "https://localhost:8080/"
        },
        "id": "KyuSXkT7Lhw9",
        "outputId": "dddd95a8-6a70-4db7-f8b6-9c31cd6f32df"
      },
      "source": [
        "dataset.columns"
      ],
      "execution_count": 585,
      "outputs": [
        {
          "output_type": "execute_result",
          "data": {
            "text/plain": [
              "Index(['Pregnancies', 'Glucose', 'BloodPressure', 'SkinThickness', 'Insulin',\n",
              "       'BMI', 'DiabetesPedigreeFunction', 'Age', 'Outcome'],\n",
              "      dtype='object')"
            ]
          },
          "metadata": {},
          "execution_count": 585
        }
      ]
    },
    {
      "cell_type": "markdown",
      "metadata": {
        "id": "nXuhgzP4L9jV"
      },
      "source": [
        "# Data Preparation"
      ]
    },
    {
      "cell_type": "markdown",
      "metadata": {
        "id": "3u4SSmrZNhh7"
      },
      "source": [
        "## Cek Missing Value"
      ]
    },
    {
      "cell_type": "code",
      "metadata": {
        "colab": {
          "base_uri": "https://localhost:8080/"
        },
        "id": "GnxIKoQmL1jF",
        "outputId": "36e76f58-ffe1-4465-c619-b021a0adc4c9"
      },
      "source": [
        "dataset.isnull().sum()"
      ],
      "execution_count": 586,
      "outputs": [
        {
          "output_type": "execute_result",
          "data": {
            "text/plain": [
              "Pregnancies                 0\n",
              "Glucose                     0\n",
              "BloodPressure               0\n",
              "SkinThickness               0\n",
              "Insulin                     0\n",
              "BMI                         0\n",
              "DiabetesPedigreeFunction    0\n",
              "Age                         0\n",
              "Outcome                     0\n",
              "dtype: int64"
            ]
          },
          "metadata": {},
          "execution_count": 586
        }
      ]
    },
    {
      "cell_type": "markdown",
      "metadata": {
        "id": "Orieed2iNmvj"
      },
      "source": [
        "## Cek Tipe Data"
      ]
    },
    {
      "cell_type": "code",
      "metadata": {
        "colab": {
          "base_uri": "https://localhost:8080/"
        },
        "id": "RUXXI2WxMBPq",
        "outputId": "af991b31-da6f-4e2b-f40f-fd45eeb301ec"
      },
      "source": [
        "dataset.dtypes"
      ],
      "execution_count": 587,
      "outputs": [
        {
          "output_type": "execute_result",
          "data": {
            "text/plain": [
              "Pregnancies                   int64\n",
              "Glucose                       int64\n",
              "BloodPressure                 int64\n",
              "SkinThickness                 int64\n",
              "Insulin                       int64\n",
              "BMI                         float64\n",
              "DiabetesPedigreeFunction    float64\n",
              "Age                           int64\n",
              "Outcome                       int64\n",
              "dtype: object"
            ]
          },
          "metadata": {},
          "execution_count": 587
        }
      ]
    },
    {
      "cell_type": "markdown",
      "metadata": {
        "id": "VBwh9e4YOOL8"
      },
      "source": [
        "## Cek Data Outlier"
      ]
    },
    {
      "cell_type": "markdown",
      "metadata": {
        "id": "he2adPTePb73"
      },
      "source": [
        "### Nilai Outlier dengan Boxplot"
      ]
    },
    {
      "cell_type": "code",
      "metadata": {
        "colab": {
          "base_uri": "https://localhost:8080/",
          "height": 558
        },
        "id": "JnL_u74YNsEM",
        "outputId": "f5117683-64fd-4075-e351-d042fd4e0072"
      },
      "source": [
        "cols = ['Pregnancies', 'Glucose', 'BloodPressure', 'SkinThickness', 'Insulin',\n",
        "       'BMI', 'DiabetesPedigreeFunction', 'Age']\n",
        "plt.figure(figsize=(19,9))\n",
        "dataset[cols].boxplot()\n",
        "plt.title(\"Variabel Numerik di Dataset Diabetes\", fontsize=20)\n",
        "plt.show()"
      ],
      "execution_count": 588,
      "outputs": [
        {
          "output_type": "display_data",
          "data": {
            "image/png": "[encoded data removed]",
            "text/plain": [
              "<Figure size 1368x648 with 1 Axes>"
            ]
          },
          "metadata": {
            "needs_background": "light"
          }
        }
      ]
    },
    {
      "cell_type": "markdown",
      "metadata": {
        "id": "kG9oMVekPmIA"
      },
      "source": [
        "### Nilai Outlier dengan Z-Score\n",
        "\n",
        "Sumber : https://www.analyticsvidhya.com/blog/2021/05/detecting-and-treating-outliers-treating-the-odd-one-out/"
      ]
    },
    {
      "cell_type": "code",
      "metadata": {
        "colab": {
          "base_uri": "https://localhost:8080/"
        },
        "id": "g0qhaEK3OSxS",
        "outputId": "a2f3c64b-b141-44e0-fb91-216660e303e2"
      },
      "source": [
        "def detect_outliers_zscore(data):\n",
        "    outliers = []\n",
        "    thres = 3\n",
        "    mean = np.mean(data)\n",
        "    std = np.std(data)\n",
        "    # print(mean, std)\n",
        "    for i in data:\n",
        "        z_score = (i-mean)/std\n",
        "        if (np.abs(z_score) > thres):\n",
        "            outliers.append(i)\n",
        "    return outliers\n",
        "data_outlier = {}\n",
        "for col in cols:\n",
        "  data_outlier[col] = detect_outliers_zscore(dataset[col])\n",
        "  print(\"Outliers from Z-scores method (\", col, \")\", len(data_outlier[col]), \"outlier :\", data_outlier[col])\n",
        "\n"
      ],
      "execution_count": 589,
      "outputs": [
        {
          "output_type": "stream",
          "name": "stdout",
          "text": [
            "Outliers from Z-scores method ( Pregnancies ) 4 outlier : [15, 17, 14, 14]\n",
            "Outliers from Z-scores method ( Glucose ) 5 outlier : [0, 0, 0, 0, 0]\n",
            "Outliers from Z-scores method ( BloodPressure ) 35 outlier : [0, 0, 0, 0, 0, 0, 0, 0, 0, 0, 0, 0, 0, 0, 0, 0, 0, 0, 0, 0, 0, 0, 0, 0, 0, 0, 0, 0, 0, 0, 0, 0, 0, 0, 0]\n",
            "Outliers from Z-scores method ( SkinThickness ) 1 outlier : [99]\n",
            "Outliers from Z-scores method ( Insulin ) 18 outlier : [543, 846, 495, 485, 495, 478, 744, 680, 545, 465, 579, 474, 480, 600, 440, 540, 480, 510]\n",
            "Outliers from Z-scores method ( BMI ) 14 outlier : [0.0, 0.0, 0.0, 0.0, 0.0, 67.1, 0.0, 0.0, 59.4, 0.0, 0.0, 57.3, 0.0, 0.0]\n",
            "Outliers from Z-scores method ( DiabetesPedigreeFunction ) 11 outlier : [2.2880000000000003, 1.893, 1.781, 2.329, 1.476, 2.137, 1.7309999999999999, 1.6, 2.42, 1.699, 1.6980000000000002]\n",
            "Outliers from Z-scores method ( Age ) 5 outlier : [69, 72, 81, 70, 69]\n"
          ]
        }
      ]
    },
    {
      "cell_type": "markdown",
      "metadata": {
        "id": "384NHVlFSCPk"
      },
      "source": [
        "### Nilai Outlier dengan IQR"
      ]
    },
    {
      "cell_type": "code",
      "metadata": {
        "colab": {
          "base_uri": "https://localhost:8080/"
        },
        "id": "kzWSu1WaSFCb",
        "outputId": "abea04c4-4843-4a04-cee4-91bf34ada510"
      },
      "source": [
        "\n",
        "def detect_outliers_iqr(data):\n",
        "    outliers = []\n",
        "    data = sorted(data)\n",
        "    q1 = np.percentile(data, 25)\n",
        "    q3 = np.percentile(data, 75)\n",
        "    # print(q1, q3)\n",
        "    IQR = q3-q1\n",
        "    lwr_bound = q1-(1.5*IQR)\n",
        "    upr_bound = q3+(1.5*IQR)\n",
        "    # print(lwr_bound, upr_bound)\n",
        "    for i in data: \n",
        "        if (i<lwr_bound or i>upr_bound):\n",
        "            outliers.append(i)\n",
        "    return outliers\n",
        "data_outlier = {}\n",
        "for col in cols:\n",
        "  data_outlier[col] = detect_outliers_iqr(dataset[col])\n",
        "  print(\"Outliers from Z-scores method (\", col, \")\", len(data_outlier[col]), \"outlier :\", data_outlier[col])"
      ],
      "execution_count": 590,
      "outputs": [
        {
          "output_type": "stream",
          "name": "stdout",
          "text": [
            "Outliers from Z-scores method ( Pregnancies ) 4 outlier : [14, 14, 15, 17]\n",
            "Outliers from Z-scores method ( Glucose ) 5 outlier : [0, 0, 0, 0, 0]\n",
            "Outliers from Z-scores method ( BloodPressure ) 45 outlier : [0, 0, 0, 0, 0, 0, 0, 0, 0, 0, 0, 0, 0, 0, 0, 0, 0, 0, 0, 0, 0, 0, 0, 0, 0, 0, 0, 0, 0, 0, 0, 0, 0, 0, 0, 24, 30, 30, 108, 108, 110, 110, 110, 114, 122]\n",
            "Outliers from Z-scores method ( SkinThickness ) 1 outlier : [99]\n",
            "Outliers from Z-scores method ( Insulin ) 34 outlier : [321, 325, 325, 325, 326, 328, 330, 335, 342, 360, 370, 375, 387, 392, 402, 415, 440, 465, 474, 478, 480, 480, 485, 495, 495, 510, 540, 543, 545, 579, 600, 680, 744, 846]\n",
            "Outliers from Z-scores method ( BMI ) 19 outlier : [0.0, 0.0, 0.0, 0.0, 0.0, 0.0, 0.0, 0.0, 0.0, 0.0, 0.0, 52.3, 52.3, 52.9, 53.2, 55.0, 57.3, 59.4, 67.1]\n",
            "Outliers from Z-scores method ( DiabetesPedigreeFunction ) 29 outlier : [1.213, 1.222, 1.224, 1.224, 1.251, 1.258, 1.268, 1.2819999999999998, 1.2919999999999998, 1.318, 1.321, 1.3530000000000002, 1.39, 1.391, 1.3940000000000001, 1.4, 1.4409999999999998, 1.4609999999999999, 1.476, 1.6, 1.6980000000000002, 1.699, 1.7309999999999999, 1.781, 1.893, 2.137, 2.2880000000000003, 2.329, 2.42]\n",
            "Outliers from Z-scores method ( Age ) 9 outlier : [67, 67, 67, 68, 69, 69, 70, 72, 81]\n"
          ]
        }
      ]
    },
    {
      "cell_type": "markdown",
      "metadata": {
        "id": "D3sunxLjhND_"
      },
      "source": [
        "## Handling Data Outlier"
      ]
    },
    {
      "cell_type": "markdown",
      "metadata": {
        "id": "CxjTHc2TlhrD"
      },
      "source": [
        "### Handling Data Outlier BloodPressure"
      ]
    },
    {
      "cell_type": "code",
      "metadata": {
        "colab": {
          "base_uri": "https://localhost:8080/"
        },
        "id": "kKuKq0GkY1AM",
        "outputId": "61bb95c8-a364-494e-f952-48b450da119c"
      },
      "source": [
        "mean_blood = np.mean(dataset['BloodPressure'])\n",
        "mean_blood"
      ],
      "execution_count": 591,
      "outputs": [
        {
          "output_type": "execute_result",
          "data": {
            "text/plain": [
              "69.10546875"
            ]
          },
          "metadata": {},
          "execution_count": 591
        }
      ]
    },
    {
      "cell_type": "code",
      "metadata": {
        "id": "ozAxv12hh1qJ",
        "colab": {
          "base_uri": "https://localhost:8080/"
        },
        "outputId": "507035d4-f767-4c64-cd86-dbd40aca09b6"
      },
      "source": [
        "for i in data_outlier['BloodPressure']:\n",
        "  dataset['BloodPressure'] = np.where(dataset['BloodPressure']==i, mean_blood, dataset['BloodPressure'])\n",
        "\n",
        "detect_outliers_iqr(dataset['BloodPressure'])"
      ],
      "execution_count": 592,
      "outputs": [
        {
          "output_type": "execute_result",
          "data": {
            "text/plain": [
              "[38.0, 106.0, 106.0, 106.0]"
            ]
          },
          "metadata": {},
          "execution_count": 592
        }
      ]
    },
    {
      "cell_type": "markdown",
      "metadata": {
        "id": "MEwo-jb8lp5Y"
      },
      "source": [
        "### Handling Data Outlier Insulin"
      ]
    },
    {
      "cell_type": "code",
      "metadata": {
        "id": "K-ApENbvlwag",
        "colab": {
          "base_uri": "https://localhost:8080/"
        },
        "outputId": "966e7b7f-ed1c-4762-95ea-c51a1766bfe6"
      },
      "source": [
        "median_insulin = np.median(dataset['Insulin'])\n",
        "median_insulin"
      ],
      "execution_count": 593,
      "outputs": [
        {
          "output_type": "execute_result",
          "data": {
            "text/plain": [
              "30.5"
            ]
          },
          "metadata": {},
          "execution_count": 593
        }
      ]
    },
    {
      "cell_type": "code",
      "metadata": {
        "id": "yTDuoCRjl6IR",
        "colab": {
          "base_uri": "https://localhost:8080/"
        },
        "outputId": "a2c070f2-358d-43e6-c07e-ff0175c7886d"
      },
      "source": [
        "for i in data_outlier['Insulin']:\n",
        "  dataset['Insulin'] = np.where(dataset['Insulin']==i, median_insulin, dataset['Insulin'])\n",
        "\n",
        "detect_outliers_iqr(dataset['Insulin'])"
      ],
      "execution_count": 594,
      "outputs": [
        {
          "output_type": "execute_result",
          "data": {
            "text/plain": [
              "[277.0,\n",
              " 278.0,\n",
              " 280.0,\n",
              " 284.0,\n",
              " 285.0,\n",
              " 285.0,\n",
              " 291.0,\n",
              " 293.0,\n",
              " 293.0,\n",
              " 300.0,\n",
              " 304.0,\n",
              " 310.0,\n",
              " 318.0]"
            ]
          },
          "metadata": {},
          "execution_count": 594
        }
      ]
    },
    {
      "cell_type": "markdown",
      "metadata": {
        "id": "VqgXXXbwmzxP"
      },
      "source": [
        "### Handling Data Outlier Diabetes Pedigree Function"
      ]
    },
    {
      "cell_type": "code",
      "metadata": {
        "id": "DBJAXJq9nOV_",
        "colab": {
          "base_uri": "https://localhost:8080/"
        },
        "outputId": "a3f606ab-050b-420b-c1ce-09ec51f3e4ee"
      },
      "source": [
        "median_DPF = np.median(dataset['DiabetesPedigreeFunction'])\n",
        "median_DPF"
      ],
      "execution_count": 595,
      "outputs": [
        {
          "output_type": "execute_result",
          "data": {
            "text/plain": [
              "0.3725"
            ]
          },
          "metadata": {},
          "execution_count": 595
        }
      ]
    },
    {
      "cell_type": "code",
      "metadata": {
        "id": "KlgII96hnfyP",
        "colab": {
          "base_uri": "https://localhost:8080/"
        },
        "outputId": "6a08bd30-e20c-4dc7-8870-0a06ca6e49f0"
      },
      "source": [
        "for i in data_outlier['DiabetesPedigreeFunction']:\n",
        "  dataset['DiabetesPedigreeFunction'] = np.where(dataset['DiabetesPedigreeFunction']==i, median_DPF, dataset['DiabetesPedigreeFunction'])\n",
        "\n",
        "detect_outliers_iqr(dataset['DiabetesPedigreeFunction'])"
      ],
      "execution_count": 596,
      "outputs": [
        {
          "output_type": "execute_result",
          "data": {
            "text/plain": [
              "[1.095,\n",
              " 1.0959999999999999,\n",
              " 1.101,\n",
              " 1.114,\n",
              " 1.127,\n",
              " 1.136,\n",
              " 1.138,\n",
              " 1.1440000000000001,\n",
              " 1.1540000000000001,\n",
              " 1.159,\n",
              " 1.162,\n",
              " 1.1740000000000002,\n",
              " 1.182,\n",
              " 1.189,\n",
              " 1.1909999999999998]"
            ]
          },
          "metadata": {},
          "execution_count": 596
        }
      ]
    },
    {
      "cell_type": "markdown",
      "metadata": {
        "id": "PwKwkcTNoiFY"
      },
      "source": [
        "### Handling Data Outlier BMI"
      ]
    },
    {
      "cell_type": "code",
      "metadata": {
        "id": "7eh74bZporeL",
        "colab": {
          "base_uri": "https://localhost:8080/"
        },
        "outputId": "9c515558-1de8-4e6d-b645-2a2de960f507"
      },
      "source": [
        "mean_BMI = np.mean(dataset['BMI'])\n",
        "mean_BMI"
      ],
      "execution_count": 597,
      "outputs": [
        {
          "output_type": "execute_result",
          "data": {
            "text/plain": [
              "31.992578124999977"
            ]
          },
          "metadata": {},
          "execution_count": 597
        }
      ]
    },
    {
      "cell_type": "code",
      "metadata": {
        "id": "Z-EwkrOto4mb",
        "colab": {
          "base_uri": "https://localhost:8080/"
        },
        "outputId": "35e973ca-0db5-41f6-b367-f902bcdefb9b"
      },
      "source": [
        "for i in data_outlier['BMI']:\n",
        "  dataset['BMI'] = np.where(dataset['BMI']==i, mean_BMI, dataset['BMI'])\n",
        "\n",
        "detect_outliers_iqr(dataset['BMI'])"
      ],
      "execution_count": 598,
      "outputs": [
        {
          "output_type": "execute_result",
          "data": {
            "text/plain": [
              "[49.6, 49.7, 50.0]"
            ]
          },
          "metadata": {},
          "execution_count": 598
        }
      ]
    },
    {
      "cell_type": "code",
      "metadata": {
        "id": "2tczHLrwlYPU",
        "colab": {
          "base_uri": "https://localhost:8080/",
          "height": 558
        },
        "outputId": "cd272be8-5e70-4d69-bbc3-e787355f8a8b"
      },
      "source": [
        "plt.figure(figsize=(19,9))\n",
        "dataset[cols].boxplot()\n",
        "plt.title(\"Variabel Numerik di Dataset Diabetes\", fontsize=20)\n",
        "plt.show()"
      ],
      "execution_count": 599,
      "outputs": [
        {
          "output_type": "display_data",
          "data": {
            "image/png": "[encoded data removed]",
            "text/plain": [
              "<Figure size 1368x648 with 1 Axes>"
            ]
          },
          "metadata": {
            "needs_background": "light"
          }
        }
      ]
    },
    {
      "cell_type": "markdown",
      "metadata": {
        "id": "dvqURgCkVQ3-"
      },
      "source": [
        "## Inisiasi Variabel Fitur dan Label"
      ]
    },
    {
      "cell_type": "code",
      "metadata": {
        "id": "HFwhF86eH3H5"
      },
      "source": [
        "X = dataset.drop('Outcome', axis=1)\n",
        "y = dataset['Outcome']"
      ],
      "execution_count": 600,
      "outputs": []
    },
    {
      "cell_type": "markdown",
      "metadata": {
        "id": "wvPSWXggRezd"
      },
      "source": [
        "## Oversampling Data"
      ]
    },
    {
      "cell_type": "code",
      "metadata": {
        "id": "Vkdfct8bRtwv",
        "outputId": "7de87276-47ad-4904-b305-5696dd037aa1",
        "colab": {
          "base_uri": "https://localhost:8080/"
        }
      },
      "source": [
        "!pip install imbalanced-learn"
      ],
      "execution_count": 601,
      "outputs": [
        {
          "output_type": "stream",
          "name": "stdout",
          "text": [
            "Requirement already satisfied: imbalanced-learn in /usr/local/lib/python3.7/dist-packages (0.4.3)\n",
            "Requirement already satisfied: scikit-learn>=0.20 in /usr/local/lib/python3.7/dist-packages (from imbalanced-learn) (0.22.2.post1)\n",
            "Requirement already satisfied: scipy>=0.13.3 in /usr/local/lib/python3.7/dist-packages (from imbalanced-learn) (1.4.1)\n",
            "Requirement already satisfied: numpy>=1.8.2 in /usr/local/lib/python3.7/dist-packages (from imbalanced-learn) (1.19.5)\n",
            "Requirement already satisfied: joblib>=0.11 in /usr/local/lib/python3.7/dist-packages (from scikit-learn>=0.20->imbalanced-learn) (1.0.1)\n"
          ]
        }
      ]
    },
    {
      "cell_type": "code",
      "metadata": {
        "id": "AC8l0Br-RxZZ"
      },
      "source": [
        "from imblearn.over_sampling import SMOTE"
      ],
      "execution_count": 602,
      "outputs": []
    },
    {
      "cell_type": "code",
      "metadata": {
        "id": "P9vfO_HFR4Nf",
        "outputId": "5d14beab-cdd7-4cd3-f9dc-9a2f493e11be",
        "colab": {
          "base_uri": "https://localhost:8080/"
        }
      },
      "source": [
        "y.value_counts()"
      ],
      "execution_count": 603,
      "outputs": [
        {
          "output_type": "execute_result",
          "data": {
            "text/plain": [
              "0    500\n",
              "1    268\n",
              "Name: Outcome, dtype: int64"
            ]
          },
          "metadata": {},
          "execution_count": 603
        }
      ]
    },
    {
      "cell_type": "code",
      "metadata": {
        "id": "ReINsufeSAMQ",
        "outputId": "db6c4a3e-6d55-47d9-c2fd-7f456a179d29",
        "colab": {
          "base_uri": "https://localhost:8080/"
        }
      },
      "source": [
        "X, y = SMOTE().fit_resample(X, y)\n",
        "print(sorted(Counter(y).items()))"
      ],
      "execution_count": 604,
      "outputs": [
        {
          "output_type": "stream",
          "name": "stdout",
          "text": [
            "[(0, 500), (1, 500)]\n"
          ]
        }
      ]
    },
    {
      "cell_type": "markdown",
      "metadata": {
        "id": "kjUKqiu1Uvbz"
      },
      "source": [
        "## Scalling Data\n"
      ]
    },
    {
      "cell_type": "code",
      "metadata": {
        "id": "mGv3UurPU372",
        "outputId": "2b51a2e5-6873-4a8a-c694-3a69253dec04",
        "colab": {
          "base_uri": "https://localhost:8080/"
        }
      },
      "source": [
        "scaler =  MinMaxScaler()\n",
        "# transform data\n",
        "X = scaler.fit_transform(X)\n",
        "print(X)"
      ],
      "execution_count": 605,
      "outputs": [
        {
          "output_type": "stream",
          "name": "stdout",
          "text": [
            "[[0.35294118 0.74371859 0.5        ... 0.48427673 0.49326146 0.48333333]\n",
            " [0.05882353 0.42713568 0.41176471 ... 0.26415094 0.24528302 0.16666667]\n",
            " [0.47058824 0.91959799 0.38235294 ... 0.16037736 0.53369272 0.18333333]\n",
            " ...\n",
            " [0.58391252 0.50790697 0.69507543 ... 0.83228659 0.91948569 0.29313161]\n",
            " [0.64705882 0.75247081 0.67481564 ... 0.52031556 0.21794627 0.5       ]\n",
            " [0.46033711 0.84272933 0.27039747 ... 0.54781981 0.34229179 0.15236399]]\n"
          ]
        }
      ]
    },
    {
      "cell_type": "markdown",
      "metadata": {
        "id": "3tzgM9jkxq73"
      },
      "source": [
        "# Train Model\n",
        "\n"
      ]
    },
    {
      "cell_type": "markdown",
      "metadata": {
        "id": "alY0-HshJ95Q"
      },
      "source": [
        "# Data Split\n"
      ]
    },
    {
      "cell_type": "code",
      "metadata": {
        "id": "G1c0lFCHJpgQ"
      },
      "source": [
        "X_train, X_test, y_train, y_test = train_test_split(X, y, test_size=0.3, random_state=101)"
      ],
      "execution_count": 606,
      "outputs": []
    },
    {
      "cell_type": "markdown",
      "metadata": {
        "id": "2_Z9yPaJ1mNY"
      },
      "source": [
        "# Training Model\n"
      ]
    },
    {
      "cell_type": "code",
      "metadata": {
        "colab": {
          "base_uri": "https://localhost:8080/"
        },
        "id": "EEvaLR9LiqKu",
        "outputId": "e42a0747-6659-42e5-89fa-a01d0c6165de"
      },
      "source": [
        "model = KNeighborsClassifier(n_neighbors=39, leaf_size=30)\n",
        "model.fit(X_train,y_train)"
      ],
      "execution_count": 607,
      "outputs": [
        {
          "output_type": "execute_result",
          "data": {
            "text/plain": [
              "KNeighborsClassifier(algorithm='auto', leaf_size=30, metric='minkowski',\n",
              "                     metric_params=None, n_jobs=None, n_neighbors=39, p=2,\n",
              "                     weights='uniform')"
            ]
          },
          "metadata": {},
          "execution_count": 607
        }
      ]
    },
    {
      "cell_type": "markdown",
      "metadata": {
        "id": "mDRp8Uq1LLiH"
      },
      "source": [
        "# Model Validation"
      ]
    },
    {
      "cell_type": "markdown",
      "metadata": {
        "id": "L1yFhT4_NMFl"
      },
      "source": [
        "## Basic Validation"
      ]
    },
    {
      "cell_type": "code",
      "metadata": {
        "id": "mjbUqa-dMgC-"
      },
      "source": [
        "def model_validation_metrics(confusion_matrix):\n",
        "  tn, fp, fn, tp = confusion_matrix.ravel()\n",
        "  return (tp+tn)/(tp+tn+fp+fn),tp/(tp+fp),tp/(tp+fn)\n",
        "\n",
        "def roc_curve_func(y_true,y_score):\n",
        "  # Compute fpr, tpr, thresholds and roc auc\n",
        "  fpr, tpr, thresholds = roc_curve(y_true, y_score)\n",
        "  roc_auc = roc_auc_score(y_true, y_score)\n",
        "\n",
        "  # Plot ROC curve\n",
        "  plt.plot(fpr, tpr, label='ROC curve (area = %0.3f)' % roc_auc)\n",
        "  plt.plot([0, 1], [0, 1], 'k--')  # random predictions curve\n",
        "  plt.xlim([0.0, 1.0])\n",
        "  plt.ylim([0.0, 1.0])\n",
        "  plt.xlabel('False Positive Rate or (1 - Specifity)')\n",
        "  plt.ylabel('True Positive Rate or (Sensitivity)')\n",
        "  plt.title('Receiver Operating Characteristic')\n",
        "  plt.legend(loc=\"lower right\")"
      ],
      "execution_count": 608,
      "outputs": []
    },
    {
      "cell_type": "code",
      "metadata": {
        "id": "PaBB3D10K447"
      },
      "source": [
        "y_train_pred=model.predict(X_train)\n",
        "y_train_pred_proba=model.predict_proba(X_train)[:,1]\n",
        "\n",
        "cm_train=confusion_matrix(y_train, y_train_pred)"
      ],
      "execution_count": 609,
      "outputs": []
    },
    {
      "cell_type": "code",
      "metadata": {
        "id": "KLfnsoUTLtR7",
        "colab": {
          "base_uri": "https://localhost:8080/",
          "height": 391
        },
        "outputId": "b55ea437-57dc-423f-f58f-f2b216eded77"
      },
      "source": [
        "plt.figure(figsize=(6,6))\n",
        "sns.heatmap(cm_train,annot=True,fmt=',.0f',linewidths=3, annot_kws={\"fontsize\":16})"
      ],
      "execution_count": 610,
      "outputs": [
        {
          "output_type": "execute_result",
          "data": {
            "text/plain": [
              "<matplotlib.axes._subplots.AxesSubplot at 0x7fd0012d24d0>"
            ]
          },
          "metadata": {},
          "execution_count": 610
        },
        {
          "output_type": "display_data",
          "data": {
            "image/png": "[encoded data removed]",
            "text/plain": [
              "<Figure size 432x432 with 2 Axes>"
            ]
          },
          "metadata": {
            "needs_background": "light"
          }
        }
      ]
    },
    {
      "cell_type": "code",
      "metadata": {
        "id": "YDosSwwbMDAu",
        "colab": {
          "base_uri": "https://localhost:8080/"
        },
        "outputId": "58634941-f35c-4aac-a6d9-9b6d58cc39f0"
      },
      "source": [
        "accuracy,precision,recall=model_validation_metrics(cm_train)\n",
        "print('Akurasi :', accuracy)\n",
        "print('Presisi', precision)\n",
        "print('Recall', recall)"
      ],
      "execution_count": 611,
      "outputs": [
        {
          "output_type": "stream",
          "name": "stdout",
          "text": [
            "Akurasi : 0.7628571428571429\n",
            "Presisi 0.7343358395989975\n",
            "Recall 0.830028328611898\n"
          ]
        }
      ]
    },
    {
      "cell_type": "code",
      "metadata": {
        "id": "o4C3rWFFMrSa",
        "colab": {
          "base_uri": "https://localhost:8080/",
          "height": 295
        },
        "outputId": "da9abafa-a3ff-4a54-bc8e-1828e7634ad3"
      },
      "source": [
        "roc_curve_func(y_train,y_train_pred_proba)"
      ],
      "execution_count": 612,
      "outputs": [
        {
          "output_type": "display_data",
          "data": {
            "image/png": "[encoded data removed]",
            "text/plain": [
              "<Figure size 432x288 with 1 Axes>"
            ]
          },
          "metadata": {
            "needs_background": "light"
          }
        }
      ]
    },
    {
      "cell_type": "markdown",
      "metadata": {
        "id": "AGsIGq0CNO-u"
      },
      "source": [
        "## Cross-Validation"
      ]
    },
    {
      "cell_type": "code",
      "metadata": {
        "id": "u59SaENrNSfw"
      },
      "source": [
        "y_train_pred=model.predict(X_train)\n",
        "y_test_pred=model.predict(X_test)"
      ],
      "execution_count": 613,
      "outputs": []
    },
    {
      "cell_type": "code",
      "metadata": {
        "id": "7yfU40qrNaI6"
      },
      "source": [
        "cm_train=confusion_matrix(y_train, y_train_pred)\n",
        "cm_test=confusion_matrix(y_test, y_test_pred)"
      ],
      "execution_count": 614,
      "outputs": []
    },
    {
      "cell_type": "code",
      "metadata": {
        "id": "Vcp5KXR1NdA7"
      },
      "source": [
        "def basic_eval(tm,cm):\n",
        "  plt.figure(figsize=(6,6))\n",
        "  plt.title(tm+\" Evaluation\")\n",
        "  sns.heatmap(cm,annot=True,fmt=',.0f',linewidths=3, annot_kws={\"fontsize\":16})\n",
        "  accuracy,precision,recall=model_validation_metrics(cm)\n",
        "  print(\"accuracy :\",accuracy)\n",
        "  print(\"precision :\",precision)\n",
        "  print(\"recall :\",recall)"
      ],
      "execution_count": 615,
      "outputs": []
    },
    {
      "cell_type": "code",
      "metadata": {
        "id": "k5fEnDDyNgb7",
        "colab": {
          "base_uri": "https://localhost:8080/",
          "height": 441
        },
        "outputId": "65563465-9385-4f16-f38b-17b906a35fb9"
      },
      "source": [
        "basic_eval('Train',cm_train)"
      ],
      "execution_count": 616,
      "outputs": [
        {
          "output_type": "stream",
          "name": "stdout",
          "text": [
            "accuracy : 0.7628571428571429\n",
            "precision : 0.7343358395989975\n",
            "recall : 0.830028328611898\n"
          ]
        },
        {
          "output_type": "display_data",
          "data": {
            "image/png": "[encoded data removed]",
            "text/plain": [
              "<Figure size 432x432 with 2 Axes>"
            ]
          },
          "metadata": {
            "needs_background": "light"
          }
        }
      ]
    },
    {
      "cell_type": "code",
      "metadata": {
        "id": "sE0fhSdlNpvu",
        "colab": {
          "base_uri": "https://localhost:8080/",
          "height": 441
        },
        "outputId": "64cb3040-9ff8-4309-c6ad-9df9a3875254"
      },
      "source": [
        "basic_eval('Test',cm_test)"
      ],
      "execution_count": 617,
      "outputs": [
        {
          "output_type": "stream",
          "name": "stdout",
          "text": [
            "accuracy : 0.7766666666666666\n",
            "precision : 0.7298850574712644\n",
            "recall : 0.8639455782312925\n"
          ]
        },
        {
          "output_type": "display_data",
          "data": {
            "image/png": "[encoded data removed]",
            "text/plain": [
              "<Figure size 432x432 with 2 Axes>"
            ]
          },
          "metadata": {
            "needs_background": "light"
          }
        }
      ]
    },
    {
      "cell_type": "markdown",
      "metadata": {
        "id": "yJ7_hRddN-AQ"
      },
      "source": [
        "## Bias-variance trade-off"
      ]
    },
    {
      "cell_type": "code",
      "metadata": {
        "id": "jGEexLXPOD4G"
      },
      "source": [
        "## Check on hyperparameter changing\n",
        "hyper_param_list=[x for x in range(30, 41)]"
      ],
      "execution_count": 618,
      "outputs": []
    },
    {
      "cell_type": "code",
      "metadata": {
        "id": "kTnpd5A2OHaW"
      },
      "source": [
        "df_trade_off=[]\n",
        "for md in hyper_param_list:\n",
        "  model_trade_off=KNeighborsClassifier(n_neighbors=md, weights='uniform', algorithm='auto', p=2)\n",
        "\n",
        "  # model_base=RandomForestClassifier(n_estimators=40, max_depth=md,min_samples_split=3)\n",
        "  # model_churn_trade_off=AdaBoostClassifier(base_estimator=model_base, n_estimators=15, learning_rate=0.2, random_state=321)  \n",
        "\n",
        "  model_trade_off.fit(X_train,y_train)\n",
        "  y_train_pred_temp=model_trade_off.predict(X_train)\n",
        "  y_test_pred_temp=model_trade_off.predict(X_test)\n",
        "  cm_train=confusion_matrix(y_train, y_train_pred_temp)\n",
        "  cm_test=confusion_matrix(y_test, y_test_pred_temp)\n",
        "  acc_train,p,r=model_validation_metrics(cm_train)\n",
        "  acc_test,p,r =model_validation_metrics(cm_test)\n",
        "  df_trade_off.append([acc_train,acc_test])\n",
        "df_trade_off=pd.DataFrame(df_trade_off,columns=['train_accuracy','test_accuracy'],index=hyper_param_list)"
      ],
      "execution_count": 619,
      "outputs": []
    },
    {
      "cell_type": "code",
      "metadata": {
        "id": "OQvzqR7jRkCp",
        "colab": {
          "base_uri": "https://localhost:8080/",
          "height": 500
        },
        "outputId": "0a8b875d-4c2c-49d9-bc3f-bf45cf972334"
      },
      "source": [
        "df_trade_off.plot(figsize=(15,8))"
      ],
      "execution_count": 620,
      "outputs": [
        {
          "output_type": "execute_result",
          "data": {
            "text/plain": [
              "<matplotlib.axes._subplots.AxesSubplot at 0x7fd000da5e10>"
            ]
          },
          "metadata": {},
          "execution_count": 620
        },
        {
          "output_type": "display_data",
          "data": {
            "image/png": "[encoded data removed]",
            "text/plain": [
              "<Figure size 1080x576 with 1 Axes>"
            ]
          },
          "metadata": {
            "needs_background": "light"
          }
        }
      ]
    },
    {
      "cell_type": "markdown",
      "metadata": {
        "id": "j44KP-V72J_g"
      },
      "source": [
        "# Accuracy Score"
      ]
    },
    {
      "cell_type": "code",
      "metadata": {
        "colab": {
          "base_uri": "https://localhost:8080/"
        },
        "id": "jY_NIFXzKh-b",
        "outputId": "39e540d1-184e-4df9-9b7f-9d931cc5eb7e"
      },
      "source": [
        "#Import modul scikit-learn metrics \n",
        "from sklearn import metrics\n",
        "# Model Accuracy\n",
        "y_pred = model.predict(X_test)\n",
        "print(\"Accuracy:\",metrics.accuracy_score(y_test, y_pred))"
      ],
      "execution_count": 621,
      "outputs": [
        {
          "output_type": "stream",
          "name": "stdout",
          "text": [
            "Accuracy: 0.7766666666666666\n"
          ]
        }
      ]
    },
    {
      "cell_type": "code",
      "metadata": {
        "id": "zqFxyFgAI5Pa",
        "colab": {
          "base_uri": "https://localhost:8080/"
        },
        "outputId": "b2968e0b-26ac-413f-ccdc-f6680e4b5b40"
      },
      "source": [
        "print(metrics.classification_report(y_test, y_pred))"
      ],
      "execution_count": 622,
      "outputs": [
        {
          "output_type": "stream",
          "name": "stdout",
          "text": [
            "              precision    recall  f1-score   support\n",
            "\n",
            "           0       0.84      0.69      0.76       153\n",
            "           1       0.73      0.86      0.79       147\n",
            "\n",
            "    accuracy                           0.78       300\n",
            "   macro avg       0.79      0.78      0.78       300\n",
            "weighted avg       0.79      0.78      0.78       300\n",
            "\n"
          ]
        }
      ]
    },
    {
      "cell_type": "markdown",
      "metadata": {
        "id": "zA8Kf8luZwt7"
      },
      "source": [
        "# Random Forest"
      ]
    },
    {
      "cell_type": "code",
      "metadata": {
        "id": "Dj_RiPuHI7aD"
      },
      "source": [
        "from sklearn.ensemble import RandomForestClassifier"
      ],
      "execution_count": 625,
      "outputs": []
    },
    {
      "cell_type": "code",
      "metadata": {
        "id": "BCE_5IUjapTk"
      },
      "source": [
        "model2 = RandomForestClassifier"
      ],
      "execution_count": 626,
      "outputs": []
    },
    {
      "cell_type": "code",
      "metadata": {
        "id": "n7xYrT5cbTfj"
      },
      "source": [
        ""
      ],
      "execution_count": null,
      "outputs": []
    }
  ]
}