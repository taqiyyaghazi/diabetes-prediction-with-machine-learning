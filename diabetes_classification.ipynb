{
  "nbformat": 4,
  "nbformat_minor": 0,
  "metadata": {
    "colab": {
      "name": "KNN.ipynb",
      "provenance": [],
      "collapsed_sections": [],
      "toc_visible": true
    },
    "kernelspec": {
      "name": "python3",
      "display_name": "Python 3"
    },
    "language_info": {
      "name": "python"
    },
    "accelerator": "TPU"
  },
  "cells": [
    {
      "cell_type": "markdown",
      "metadata": {
        "id": "5AWSoga4LDuZ"
      },
      "source": [
        "# Import Package"
      ]
    },
    {
      "cell_type": "code",
      "metadata": {
        "id": "k2iKxY-u7UPv"
      },
      "source": [
        "import pandas as pd\n",
        "import seaborn as sns\n",
        "import matplotlib.pyplot as plt\n",
        "import numpy as np\n",
        "import warnings\n",
        "import time\n",
        "import os\n",
        "from collections import Counter\n",
        "from sklearn.model_selection import train_test_split\n",
        "from sklearn.preprocessing import MinMaxScaler\n",
        "from sklearn.neighbors import KNeighborsClassifier\n",
        "from sklearn.metrics import confusion_matrix,roc_curve,roc_auc_score\n",
        "warnings.filterwarnings(\"ignore\")\n",
        "%matplotlib inline"
      ],
      "execution_count": 1,
      "outputs": []
    },
    {
      "cell_type": "markdown",
      "metadata": {
        "id": "N23A8j3zF3H9"
      },
      "source": [
        "# Import Data"
      ]
    },
    {
      "cell_type": "code",
      "metadata": {
        "id": "ij8ksFMG7ZK_"
      },
      "source": [
        "dataset = pd.read_csv(\"https://raw.githubusercontent.com/taqiyyaghazi/knn_diabetes/main/diabetes.csv\")"
      ],
      "execution_count": 2,
      "outputs": []
    },
    {
      "cell_type": "code",
      "metadata": {
        "colab": {
          "base_uri": "https://localhost:8080/",
          "height": 203
        },
        "id": "ZfvxtHIh7lHl",
        "outputId": "b45883ca-e48f-45f8-89d1-99d6a48d1de6"
      },
      "source": [
        "dataset.head()"
      ],
      "execution_count": 3,
      "outputs": [
        {
          "output_type": "execute_result",
          "data": {
            "text/html": [
              "<div>\n",
              "<style scoped>\n",
              "    .dataframe tbody tr th:only-of-type {\n",
              "        vertical-align: middle;\n",
              "    }\n",
              "\n",
              "    .dataframe tbody tr th {\n",
              "        vertical-align: top;\n",
              "    }\n",
              "\n",
              "    .dataframe thead th {\n",
              "        text-align: right;\n",
              "    }\n",
              "</style>\n",
              "<table border=\"1\" class=\"dataframe\">\n",
              "  <thead>\n",
              "    <tr style=\"text-align: right;\">\n",
              "      <th></th>\n",
              "      <th>Pregnancies</th>\n",
              "      <th>Glucose</th>\n",
              "      <th>BloodPressure</th>\n",
              "      <th>SkinThickness</th>\n",
              "      <th>Insulin</th>\n",
              "      <th>BMI</th>\n",
              "      <th>DiabetesPedigreeFunction</th>\n",
              "      <th>Age</th>\n",
              "      <th>Outcome</th>\n",
              "    </tr>\n",
              "  </thead>\n",
              "  <tbody>\n",
              "    <tr>\n",
              "      <th>0</th>\n",
              "      <td>6</td>\n",
              "      <td>148</td>\n",
              "      <td>72</td>\n",
              "      <td>35</td>\n",
              "      <td>0</td>\n",
              "      <td>33.6</td>\n",
              "      <td>0.627</td>\n",
              "      <td>50</td>\n",
              "      <td>1</td>\n",
              "    </tr>\n",
              "    <tr>\n",
              "      <th>1</th>\n",
              "      <td>1</td>\n",
              "      <td>85</td>\n",
              "      <td>66</td>\n",
              "      <td>29</td>\n",
              "      <td>0</td>\n",
              "      <td>26.6</td>\n",
              "      <td>0.351</td>\n",
              "      <td>31</td>\n",
              "      <td>0</td>\n",
              "    </tr>\n",
              "    <tr>\n",
              "      <th>2</th>\n",
              "      <td>8</td>\n",
              "      <td>183</td>\n",
              "      <td>64</td>\n",
              "      <td>0</td>\n",
              "      <td>0</td>\n",
              "      <td>23.3</td>\n",
              "      <td>0.672</td>\n",
              "      <td>32</td>\n",
              "      <td>1</td>\n",
              "    </tr>\n",
              "    <tr>\n",
              "      <th>3</th>\n",
              "      <td>1</td>\n",
              "      <td>89</td>\n",
              "      <td>66</td>\n",
              "      <td>23</td>\n",
              "      <td>94</td>\n",
              "      <td>28.1</td>\n",
              "      <td>0.167</td>\n",
              "      <td>21</td>\n",
              "      <td>0</td>\n",
              "    </tr>\n",
              "    <tr>\n",
              "      <th>4</th>\n",
              "      <td>0</td>\n",
              "      <td>137</td>\n",
              "      <td>40</td>\n",
              "      <td>35</td>\n",
              "      <td>168</td>\n",
              "      <td>43.1</td>\n",
              "      <td>2.288</td>\n",
              "      <td>33</td>\n",
              "      <td>1</td>\n",
              "    </tr>\n",
              "  </tbody>\n",
              "</table>\n",
              "</div>"
            ],
            "text/plain": [
              "   Pregnancies  Glucose  BloodPressure  ...  DiabetesPedigreeFunction  Age  Outcome\n",
              "0            6      148             72  ...                     0.627   50        1\n",
              "1            1       85             66  ...                     0.351   31        0\n",
              "2            8      183             64  ...                     0.672   32        1\n",
              "3            1       89             66  ...                     0.167   21        0\n",
              "4            0      137             40  ...                     2.288   33        1\n",
              "\n",
              "[5 rows x 9 columns]"
            ]
          },
          "metadata": {},
          "execution_count": 3
        }
      ]
    },
    {
      "cell_type": "code",
      "metadata": {
        "colab": {
          "base_uri": "https://localhost:8080/"
        },
        "id": "qsbJabdeLQXd",
        "outputId": "f2263ec0-401b-493e-ef44-581aaa9691a8"
      },
      "source": [
        "dataset['Outcome'].value_counts()"
      ],
      "execution_count": 4,
      "outputs": [
        {
          "output_type": "execute_result",
          "data": {
            "text/plain": [
              "0    500\n",
              "1    268\n",
              "Name: Outcome, dtype: int64"
            ]
          },
          "metadata": {},
          "execution_count": 4
        }
      ]
    },
    {
      "cell_type": "code",
      "metadata": {
        "colab": {
          "base_uri": "https://localhost:8080/"
        },
        "id": "KyuSXkT7Lhw9",
        "outputId": "9df61547-8b24-451f-e421-7d3cdad7ffac"
      },
      "source": [
        "dataset.columns"
      ],
      "execution_count": 5,
      "outputs": [
        {
          "output_type": "execute_result",
          "data": {
            "text/plain": [
              "Index(['Pregnancies', 'Glucose', 'BloodPressure', 'SkinThickness', 'Insulin',\n",
              "       'BMI', 'DiabetesPedigreeFunction', 'Age', 'Outcome'],\n",
              "      dtype='object')"
            ]
          },
          "metadata": {},
          "execution_count": 5
        }
      ]
    },
    {
      "cell_type": "markdown",
      "metadata": {
        "id": "nXuhgzP4L9jV"
      },
      "source": [
        "# Data Preparation"
      ]
    },
    {
      "cell_type": "markdown",
      "metadata": {
        "id": "3u4SSmrZNhh7"
      },
      "source": [
        "## Cek Missing Value"
      ]
    },
    {
      "cell_type": "code",
      "metadata": {
        "colab": {
          "base_uri": "https://localhost:8080/"
        },
        "id": "GnxIKoQmL1jF",
        "outputId": "cd6e1d24-6238-4ea9-dbbd-0893ea04302c"
      },
      "source": [
        "dataset.isnull().sum()"
      ],
      "execution_count": 6,
      "outputs": [
        {
          "output_type": "execute_result",
          "data": {
            "text/plain": [
              "Pregnancies                 0\n",
              "Glucose                     0\n",
              "BloodPressure               0\n",
              "SkinThickness               0\n",
              "Insulin                     0\n",
              "BMI                         0\n",
              "DiabetesPedigreeFunction    0\n",
              "Age                         0\n",
              "Outcome                     0\n",
              "dtype: int64"
            ]
          },
          "metadata": {},
          "execution_count": 6
        }
      ]
    },
    {
      "cell_type": "markdown",
      "metadata": {
        "id": "Orieed2iNmvj"
      },
      "source": [
        "## Cek Tipe Data"
      ]
    },
    {
      "cell_type": "code",
      "metadata": {
        "colab": {
          "base_uri": "https://localhost:8080/"
        },
        "id": "RUXXI2WxMBPq",
        "outputId": "3d4c5f8e-f7bd-4f1d-f153-d02a7372eb65"
      },
      "source": [
        "dataset.dtypes"
      ],
      "execution_count": 7,
      "outputs": [
        {
          "output_type": "execute_result",
          "data": {
            "text/plain": [
              "Pregnancies                   int64\n",
              "Glucose                       int64\n",
              "BloodPressure                 int64\n",
              "SkinThickness                 int64\n",
              "Insulin                       int64\n",
              "BMI                         float64\n",
              "DiabetesPedigreeFunction    float64\n",
              "Age                           int64\n",
              "Outcome                       int64\n",
              "dtype: object"
            ]
          },
          "metadata": {},
          "execution_count": 7
        }
      ]
    },
    {
      "cell_type": "markdown",
      "metadata": {
        "id": "VBwh9e4YOOL8"
      },
      "source": [
        "## Cek Data Outlier"
      ]
    },
    {
      "cell_type": "markdown",
      "metadata": {
        "id": "he2adPTePb73"
      },
      "source": [
        "### Nilai Outlier dengan Boxplot"
      ]
    },
    {
      "cell_type": "code",
      "metadata": {
        "colab": {
          "base_uri": "https://localhost:8080/",
          "height": 558
        },
        "id": "JnL_u74YNsEM",
        "outputId": "70199765-f04b-4af3-d6e4-a94fb50d869c"
      },
      "source": [
        "cols = ['Pregnancies', 'Glucose', 'BloodPressure', 'SkinThickness', 'Insulin',\n",
        "       'BMI', 'DiabetesPedigreeFunction', 'Age']\n",
        "plt.figure(figsize=(19,9))\n",
        "dataset[cols].boxplot()\n",
        "plt.title(\"Variabel Numerik di Dataset Diabetes\", fontsize=20)\n",
        "plt.show()"
      ],
      "execution_count": 8,
      "outputs": [
        {
          "output_type": "display_data",
          "data": {
            "image/png": "[encoded data removed]",
            "text/plain": [
              "<Figure size 1368x648 with 1 Axes>"
            ]
          },
          "metadata": {
            "needs_background": "light"
          }
        }
      ]
    },
    {
      "cell_type": "markdown",
      "metadata": {
        "id": "kG9oMVekPmIA"
      },
      "source": [
        "### Nilai Outlier dengan Z-Score\n",
        "\n",
        "Sumber : https://www.analyticsvidhya.com/blog/2021/05/detecting-and-treating-outliers-treating-the-odd-one-out/"
      ]
    },
    {
      "cell_type": "code",
      "metadata": {
        "colab": {
          "base_uri": "https://localhost:8080/"
        },
        "id": "g0qhaEK3OSxS",
        "outputId": "183328d7-18dd-4a4d-8f02-5ec2cb0280b0"
      },
      "source": [
        "def detect_outliers_zscore(data):\n",
        "    outliers = []\n",
        "    thres = 3\n",
        "    mean = np.mean(data)\n",
        "    std = np.std(data)\n",
        "    # print(mean, std)\n",
        "    for i in data:\n",
        "        z_score = (i-mean)/std\n",
        "        if (np.abs(z_score) > thres):\n",
        "            outliers.append(i)\n",
        "    return outliers\n",
        "data_outlier = {}\n",
        "for col in cols:\n",
        "  data_outlier[col] = detect_outliers_zscore(dataset[col])\n",
        "  print(\"Outliers from Z-scores method (\", col, \")\", len(data_outlier[col]), \"outlier :\", data_outlier[col])\n",
        "\n"
      ],
      "execution_count": 9,
      "outputs": [
        {
          "output_type": "stream",
          "name": "stdout",
          "text": [
            "Outliers from Z-scores method ( Pregnancies ) 4 outlier : [15, 17, 14, 14]\n",
            "Outliers from Z-scores method ( Glucose ) 5 outlier : [0, 0, 0, 0, 0]\n",
            "Outliers from Z-scores method ( BloodPressure ) 35 outlier : [0, 0, 0, 0, 0, 0, 0, 0, 0, 0, 0, 0, 0, 0, 0, 0, 0, 0, 0, 0, 0, 0, 0, 0, 0, 0, 0, 0, 0, 0, 0, 0, 0, 0, 0]\n",
            "Outliers from Z-scores method ( SkinThickness ) 1 outlier : [99]\n",
            "Outliers from Z-scores method ( Insulin ) 18 outlier : [543, 846, 495, 485, 495, 478, 744, 680, 545, 465, 579, 474, 480, 600, 440, 540, 480, 510]\n",
            "Outliers from Z-scores method ( BMI ) 14 outlier : [0.0, 0.0, 0.0, 0.0, 0.0, 67.1, 0.0, 0.0, 59.4, 0.0, 0.0, 57.3, 0.0, 0.0]\n",
            "Outliers from Z-scores method ( DiabetesPedigreeFunction ) 11 outlier : [2.2880000000000003, 1.893, 1.781, 2.329, 1.476, 2.137, 1.7309999999999999, 1.6, 2.42, 1.699, 1.6980000000000002]\n",
            "Outliers from Z-scores method ( Age ) 5 outlier : [69, 72, 81, 70, 69]\n"
          ]
        }
      ]
    },
    {
      "cell_type": "markdown",
      "metadata": {
        "id": "384NHVlFSCPk"
      },
      "source": [
        "### Nilai Outlier dengan IQR"
      ]
    },
    {
      "cell_type": "code",
      "metadata": {
        "colab": {
          "base_uri": "https://localhost:8080/"
        },
        "id": "kzWSu1WaSFCb",
        "outputId": "98a5e10a-6cd1-4b96-b4a9-ed80917251ef"
      },
      "source": [
        "\n",
        "def detect_outliers_iqr(data):\n",
        "    outliers = []\n",
        "    data = sorted(data)\n",
        "    q1 = np.percentile(data, 25)\n",
        "    q3 = np.percentile(data, 75)\n",
        "    # print(q1, q3)\n",
        "    IQR = q3-q1\n",
        "    lwr_bound = q1-(1.5*IQR)\n",
        "    upr_bound = q3+(1.5*IQR)\n",
        "    # print(lwr_bound, upr_bound)\n",
        "    for i in data: \n",
        "        if (i<lwr_bound or i>upr_bound):\n",
        "            outliers.append(i)\n",
        "    return outliers\n",
        "data_outlier = {}\n",
        "for col in cols:\n",
        "  data_outlier[col] = detect_outliers_iqr(dataset[col])\n",
        "  print(\"Outliers from Z-scores method (\", col, \")\", len(data_outlier[col]), \"outlier :\", data_outlier[col])"
      ],
      "execution_count": 10,
      "outputs": [
        {
          "output_type": "stream",
          "name": "stdout",
          "text": [
            "Outliers from Z-scores method ( Pregnancies ) 4 outlier : [14, 14, 15, 17]\n",
            "Outliers from Z-scores method ( Glucose ) 5 outlier : [0, 0, 0, 0, 0]\n",
            "Outliers from Z-scores method ( BloodPressure ) 45 outlier : [0, 0, 0, 0, 0, 0, 0, 0, 0, 0, 0, 0, 0, 0, 0, 0, 0, 0, 0, 0, 0, 0, 0, 0, 0, 0, 0, 0, 0, 0, 0, 0, 0, 0, 0, 24, 30, 30, 108, 108, 110, 110, 110, 114, 122]\n",
            "Outliers from Z-scores method ( SkinThickness ) 1 outlier : [99]\n",
            "Outliers from Z-scores method ( Insulin ) 34 outlier : [321, 325, 325, 325, 326, 328, 330, 335, 342, 360, 370, 375, 387, 392, 402, 415, 440, 465, 474, 478, 480, 480, 485, 495, 495, 510, 540, 543, 545, 579, 600, 680, 744, 846]\n",
            "Outliers from Z-scores method ( BMI ) 19 outlier : [0.0, 0.0, 0.0, 0.0, 0.0, 0.0, 0.0, 0.0, 0.0, 0.0, 0.0, 52.3, 52.3, 52.9, 53.2, 55.0, 57.3, 59.4, 67.1]\n",
            "Outliers from Z-scores method ( DiabetesPedigreeFunction ) 29 outlier : [1.213, 1.222, 1.224, 1.224, 1.251, 1.258, 1.268, 1.2819999999999998, 1.2919999999999998, 1.318, 1.321, 1.3530000000000002, 1.39, 1.391, 1.3940000000000001, 1.4, 1.4409999999999998, 1.4609999999999999, 1.476, 1.6, 1.6980000000000002, 1.699, 1.7309999999999999, 1.781, 1.893, 2.137, 2.2880000000000003, 2.329, 2.42]\n",
            "Outliers from Z-scores method ( Age ) 9 outlier : [67, 67, 67, 68, 69, 69, 70, 72, 81]\n"
          ]
        }
      ]
    },
    {
      "cell_type": "markdown",
      "metadata": {
        "id": "D3sunxLjhND_"
      },
      "source": [
        "## Handling Data Outlier"
      ]
    },
    {
      "cell_type": "markdown",
      "metadata": {
        "id": "CxjTHc2TlhrD"
      },
      "source": [
        "### Handling Data Outlier BloodPressure"
      ]
    },
    {
      "cell_type": "code",
      "metadata": {
        "colab": {
          "base_uri": "https://localhost:8080/"
        },
        "id": "kKuKq0GkY1AM",
        "outputId": "5f8d4701-a907-4c1f-f584-0d1fe340f81d"
      },
      "source": [
        "mean_blood = np.mean(dataset['BloodPressure'])\n",
        "mean_blood"
      ],
      "execution_count": 11,
      "outputs": [
        {
          "output_type": "execute_result",
          "data": {
            "text/plain": [
              "69.10546875"
            ]
          },
          "metadata": {},
          "execution_count": 11
        }
      ]
    },
    {
      "cell_type": "code",
      "metadata": {
        "id": "ozAxv12hh1qJ",
        "colab": {
          "base_uri": "https://localhost:8080/"
        },
        "outputId": "cc5cdc65-647b-4ae1-d766-f0a0f38ab1df"
      },
      "source": [
        "for i in data_outlier['BloodPressure']:\n",
        "  dataset['BloodPressure'] = np.where(dataset['BloodPressure']==i, mean_blood, dataset['BloodPressure'])\n",
        "\n",
        "detect_outliers_iqr(dataset['BloodPressure'])"
      ],
      "execution_count": 12,
      "outputs": [
        {
          "output_type": "execute_result",
          "data": {
            "text/plain": [
              "[38.0, 106.0, 106.0, 106.0]"
            ]
          },
          "metadata": {},
          "execution_count": 12
        }
      ]
    },
    {
      "cell_type": "markdown",
      "metadata": {
        "id": "MEwo-jb8lp5Y"
      },
      "source": [
        "### Handling Data Outlier Insulin"
      ]
    },
    {
      "cell_type": "code",
      "metadata": {
        "id": "K-ApENbvlwag",
        "colab": {
          "base_uri": "https://localhost:8080/"
        },
        "outputId": "2f594739-cef0-471f-9f04-fdbe82e7bed4"
      },
      "source": [
        "median_insulin = np.median(dataset['Insulin'])\n",
        "median_insulin"
      ],
      "execution_count": 13,
      "outputs": [
        {
          "output_type": "execute_result",
          "data": {
            "text/plain": [
              "30.5"
            ]
          },
          "metadata": {},
          "execution_count": 13
        }
      ]
    },
    {
      "cell_type": "code",
      "metadata": {
        "id": "yTDuoCRjl6IR",
        "colab": {
          "base_uri": "https://localhost:8080/"
        },
        "outputId": "be70bdf6-c2e4-41a8-f40a-b437e5c39306"
      },
      "source": [
        "for i in data_outlier['Insulin']:\n",
        "  dataset['Insulin'] = np.where(dataset['Insulin']==i, median_insulin, dataset['Insulin'])\n",
        "\n",
        "detect_outliers_iqr(dataset['Insulin'])"
      ],
      "execution_count": 14,
      "outputs": [
        {
          "output_type": "execute_result",
          "data": {
            "text/plain": [
              "[277.0,\n",
              " 278.0,\n",
              " 280.0,\n",
              " 284.0,\n",
              " 285.0,\n",
              " 285.0,\n",
              " 291.0,\n",
              " 293.0,\n",
              " 293.0,\n",
              " 300.0,\n",
              " 304.0,\n",
              " 310.0,\n",
              " 318.0]"
            ]
          },
          "metadata": {},
          "execution_count": 14
        }
      ]
    },
    {
      "cell_type": "markdown",
      "metadata": {
        "id": "VqgXXXbwmzxP"
      },
      "source": [
        "### Handling Data Outlier Diabetes Pedigree Function"
      ]
    },
    {
      "cell_type": "code",
      "metadata": {
        "id": "DBJAXJq9nOV_",
        "colab": {
          "base_uri": "https://localhost:8080/"
        },
        "outputId": "505dcd2e-58f4-43f2-d5ae-04349518433f"
      },
      "source": [
        "median_DPF = np.median(dataset['DiabetesPedigreeFunction'])\n",
        "median_DPF"
      ],
      "execution_count": 15,
      "outputs": [
        {
          "output_type": "execute_result",
          "data": {
            "text/plain": [
              "0.3725"
            ]
          },
          "metadata": {},
          "execution_count": 15
        }
      ]
    },
    {
      "cell_type": "code",
      "metadata": {
        "id": "KlgII96hnfyP",
        "colab": {
          "base_uri": "https://localhost:8080/"
        },
        "outputId": "9a7f7cad-144e-46fc-e3d0-f8664fcd50c7"
      },
      "source": [
        "for i in data_outlier['DiabetesPedigreeFunction']:\n",
        "  dataset['DiabetesPedigreeFunction'] = np.where(dataset['DiabetesPedigreeFunction']==i, median_DPF, dataset['DiabetesPedigreeFunction'])\n",
        "\n",
        "detect_outliers_iqr(dataset['DiabetesPedigreeFunction'])"
      ],
      "execution_count": 16,
      "outputs": [
        {
          "output_type": "execute_result",
          "data": {
            "text/plain": [
              "[1.095,\n",
              " 1.0959999999999999,\n",
              " 1.101,\n",
              " 1.114,\n",
              " 1.127,\n",
              " 1.136,\n",
              " 1.138,\n",
              " 1.1440000000000001,\n",
              " 1.1540000000000001,\n",
              " 1.159,\n",
              " 1.162,\n",
              " 1.1740000000000002,\n",
              " 1.182,\n",
              " 1.189,\n",
              " 1.1909999999999998]"
            ]
          },
          "metadata": {},
          "execution_count": 16
        }
      ]
    },
    {
      "cell_type": "markdown",
      "metadata": {
        "id": "PwKwkcTNoiFY"
      },
      "source": [
        "### Handling Data Outlier BMI"
      ]
    },
    {
      "cell_type": "code",
      "metadata": {
        "id": "7eh74bZporeL",
        "colab": {
          "base_uri": "https://localhost:8080/"
        },
        "outputId": "34bbfaa8-a103-456d-d955-bcf2833de993"
      },
      "source": [
        "mean_BMI = np.mean(dataset['BMI'])\n",
        "mean_BMI"
      ],
      "execution_count": 17,
      "outputs": [
        {
          "output_type": "execute_result",
          "data": {
            "text/plain": [
              "31.992578124999977"
            ]
          },
          "metadata": {},
          "execution_count": 17
        }
      ]
    },
    {
      "cell_type": "code",
      "metadata": {
        "id": "Z-EwkrOto4mb",
        "colab": {
          "base_uri": "https://localhost:8080/"
        },
        "outputId": "324de28b-f1ed-462a-d1a7-ba893dc88837"
      },
      "source": [
        "for i in data_outlier['BMI']:\n",
        "  dataset['BMI'] = np.where(dataset['BMI']==i, mean_BMI, dataset['BMI'])\n",
        "\n",
        "detect_outliers_iqr(dataset['BMI'])"
      ],
      "execution_count": 18,
      "outputs": [
        {
          "output_type": "execute_result",
          "data": {
            "text/plain": [
              "[49.6, 49.7, 50.0]"
            ]
          },
          "metadata": {},
          "execution_count": 18
        }
      ]
    },
    {
      "cell_type": "code",
      "metadata": {
        "id": "2tczHLrwlYPU",
        "colab": {
          "base_uri": "https://localhost:8080/",
          "height": 558
        },
        "outputId": "367ba64d-37a3-4957-ce35-a1c00e2a2b65"
      },
      "source": [
        "plt.figure(figsize=(19,9))\n",
        "dataset[cols].boxplot()\n",
        "plt.title(\"Variabel Numerik di Dataset Diabetes\", fontsize=20)\n",
        "plt.show()"
      ],
      "execution_count": 19,
      "outputs": [
        {
          "output_type": "display_data",
          "data": {
            "image/png": "[encoded data removed]",
            "text/plain": [
              "<Figure size 1368x648 with 1 Axes>"
            ]
          },
          "metadata": {
            "needs_background": "light"
          }
        }
      ]
    },
    {
      "cell_type": "markdown",
      "metadata": {
        "id": "dvqURgCkVQ3-"
      },
      "source": [
        "## Inisiasi Variabel Fitur dan Label"
      ]
    },
    {
      "cell_type": "code",
      "metadata": {
        "id": "HFwhF86eH3H5"
      },
      "source": [
        "X = dataset.drop('Outcome', axis=1)\n",
        "y = dataset['Outcome']"
      ],
      "execution_count": 20,
      "outputs": []
    },
    {
      "cell_type": "markdown",
      "metadata": {
        "id": "wvPSWXggRezd"
      },
      "source": [
        "## Oversampling Data"
      ]
    },
    {
      "cell_type": "code",
      "metadata": {
        "colab": {
          "base_uri": "https://localhost:8080/"
        },
        "id": "Vkdfct8bRtwv",
        "outputId": "1bd2c212-2bc7-4cb1-9ad3-8ca88bcb18e0"
      },
      "source": [
        "!pip install imbalanced-learn"
      ],
      "execution_count": 21,
      "outputs": [
        {
          "output_type": "stream",
          "name": "stdout",
          "text": [
            "Requirement already satisfied: imbalanced-learn in /usr/local/lib/python3.7/dist-packages (0.4.3)\n",
            "Requirement already satisfied: numpy>=1.8.2 in /usr/local/lib/python3.7/dist-packages (from imbalanced-learn) (1.19.5)\n",
            "Requirement already satisfied: scikit-learn>=0.20 in /usr/local/lib/python3.7/dist-packages (from imbalanced-learn) (0.22.2.post1)\n",
            "Requirement already satisfied: scipy>=0.13.3 in /usr/local/lib/python3.7/dist-packages (from imbalanced-learn) (1.4.1)\n",
            "Requirement already satisfied: joblib>=0.11 in /usr/local/lib/python3.7/dist-packages (from scikit-learn>=0.20->imbalanced-learn) (1.0.1)\n"
          ]
        }
      ]
    },
    {
      "cell_type": "code",
      "metadata": {
        "id": "AC8l0Br-RxZZ"
      },
      "source": [
        "from imblearn.over_sampling import SMOTE"
      ],
      "execution_count": 22,
      "outputs": []
    },
    {
      "cell_type": "code",
      "metadata": {
        "colab": {
          "base_uri": "https://localhost:8080/"
        },
        "id": "P9vfO_HFR4Nf",
        "outputId": "61e459f4-b783-445d-f4d0-1a39d759033f"
      },
      "source": [
        "y.value_counts()"
      ],
      "execution_count": 23,
      "outputs": [
        {
          "output_type": "execute_result",
          "data": {
            "text/plain": [
              "0    500\n",
              "1    268\n",
              "Name: Outcome, dtype: int64"
            ]
          },
          "metadata": {},
          "execution_count": 23
        }
      ]
    },
    {
      "cell_type": "code",
      "metadata": {
        "colab": {
          "base_uri": "https://localhost:8080/"
        },
        "id": "ReINsufeSAMQ",
        "outputId": "24ae15ee-35b0-4b4b-bff7-dee46d8ef6b8"
      },
      "source": [
        "X, y = SMOTE().fit_resample(X, y)\n",
        "print(sorted(Counter(y).items()))"
      ],
      "execution_count": 24,
      "outputs": [
        {
          "output_type": "stream",
          "name": "stdout",
          "text": [
            "[(0, 500), (1, 500)]\n"
          ]
        }
      ]
    },
    {
      "cell_type": "markdown",
      "metadata": {
        "id": "kjUKqiu1Uvbz"
      },
      "source": [
        "## Scalling Data\n"
      ]
    },
    {
      "cell_type": "code",
      "metadata": {
        "colab": {
          "base_uri": "https://localhost:8080/"
        },
        "id": "mGv3UurPU372",
        "outputId": "153bc6cf-43fa-4f40-9732-482258ab39e5"
      },
      "source": [
        "scaler =  MinMaxScaler()\n",
        "# transform data\n",
        "X = scaler.fit_transform(X)\n",
        "print(X)"
      ],
      "execution_count": 25,
      "outputs": [
        {
          "output_type": "stream",
          "name": "stdout",
          "text": [
            "[[0.35294118 0.74371859 0.5        ... 0.48427673 0.49326146 0.48333333]\n",
            " [0.05882353 0.42713568 0.41176471 ... 0.26415094 0.24528302 0.16666667]\n",
            " [0.47058824 0.91959799 0.38235294 ... 0.16037736 0.53369272 0.18333333]\n",
            " ...\n",
            " [0.5957093  0.72297961 0.78501727 ... 0.4921457  0.36087643 0.51454903]\n",
            " [0.         0.94515832 0.95178101 ... 0.534441   0.34135552 0.30592852]\n",
            " [0.03830473 0.65899184 0.10602122 ... 0.72977771 0.40530897 0.10232294]]\n"
          ]
        }
      ]
    },
    {
      "cell_type": "markdown",
      "metadata": {
        "id": "3tzgM9jkxq73"
      },
      "source": [
        "# Train Model\n",
        "\n"
      ]
    },
    {
      "cell_type": "markdown",
      "metadata": {
        "id": "alY0-HshJ95Q"
      },
      "source": [
        "# Data Split\n"
      ]
    },
    {
      "cell_type": "code",
      "metadata": {
        "id": "G1c0lFCHJpgQ"
      },
      "source": [
        "X_train, X_test, y_train, y_test = train_test_split(X, y, test_size=0.3, random_state=101)"
      ],
      "execution_count": 26,
      "outputs": []
    },
    {
      "cell_type": "markdown",
      "metadata": {
        "id": "2_Z9yPaJ1mNY"
      },
      "source": [
        "# Training Model\n"
      ]
    },
    {
      "cell_type": "markdown",
      "metadata": {
        "id": "nxT7l4eC4Jx2"
      },
      "source": [
        "## K-Nearest Neighbours"
      ]
    },
    {
      "cell_type": "code",
      "metadata": {
        "colab": {
          "base_uri": "https://localhost:8080/"
        },
        "id": "EEvaLR9LiqKu",
        "outputId": "d083ccf3-3bfe-4af8-ef7a-ae99afc43a69"
      },
      "source": [
        "model = KNeighborsClassifier(n_neighbors=39, leaf_size=30)\n",
        "model.fit(X_train,y_train)"
      ],
      "execution_count": 27,
      "outputs": [
        {
          "output_type": "execute_result",
          "data": {
            "text/plain": [
              "KNeighborsClassifier(algorithm='auto', leaf_size=30, metric='minkowski',\n",
              "                     metric_params=None, n_jobs=None, n_neighbors=39, p=2,\n",
              "                     weights='uniform')"
            ]
          },
          "metadata": {},
          "execution_count": 27
        }
      ]
    },
    {
      "cell_type": "markdown",
      "metadata": {
        "id": "mDRp8Uq1LLiH"
      },
      "source": [
        "### Model Validation"
      ]
    },
    {
      "cell_type": "markdown",
      "metadata": {
        "id": "L1yFhT4_NMFl"
      },
      "source": [
        "#### Basic Validation"
      ]
    },
    {
      "cell_type": "code",
      "metadata": {
        "id": "mjbUqa-dMgC-"
      },
      "source": [
        "def model_validation_metrics(confusion_matrix):\n",
        "  tn, fp, fn, tp = confusion_matrix.ravel()\n",
        "  return (tp+tn)/(tp+tn+fp+fn),tp/(tp+fp),tp/(tp+fn)\n",
        "\n",
        "def roc_curve_func(y_true,y_score):\n",
        "  # Compute fpr, tpr, thresholds and roc auc\n",
        "  fpr, tpr, thresholds = roc_curve(y_true, y_score)\n",
        "  roc_auc = roc_auc_score(y_true, y_score)\n",
        "\n",
        "  # Plot ROC curve\n",
        "  plt.plot(fpr, tpr, label='ROC curve (area = %0.3f)' % roc_auc)\n",
        "  plt.plot([0, 1], [0, 1], 'k--')  # random predictions curve\n",
        "  plt.xlim([0.0, 1.0])\n",
        "  plt.ylim([0.0, 1.0])\n",
        "  plt.xlabel('False Positive Rate or (1 - Specifity)')\n",
        "  plt.ylabel('True Positive Rate or (Sensitivity)')\n",
        "  plt.title('Receiver Operating Characteristic')\n",
        "  plt.legend(loc=\"lower right\")"
      ],
      "execution_count": 28,
      "outputs": []
    },
    {
      "cell_type": "code",
      "metadata": {
        "id": "PaBB3D10K447"
      },
      "source": [
        "y_train_pred=model.predict(X_train)\n",
        "y_train_pred_proba=model.predict_proba(X_train)[:,1]\n",
        "\n",
        "cm_train=confusion_matrix(y_train, y_train_pred)"
      ],
      "execution_count": 29,
      "outputs": []
    },
    {
      "cell_type": "code",
      "metadata": {
        "id": "KLfnsoUTLtR7",
        "colab": {
          "base_uri": "https://localhost:8080/",
          "height": 391
        },
        "outputId": "bf2fdbb3-0f88-424c-83dc-7a5772d57b24"
      },
      "source": [
        "plt.figure(figsize=(6,6))\n",
        "sns.heatmap(cm_train,annot=True,fmt=',.0f',linewidths=3, annot_kws={\"fontsize\":16})"
      ],
      "execution_count": 30,
      "outputs": [
        {
          "output_type": "execute_result",
          "data": {
            "text/plain": [
              "<matplotlib.axes._subplots.AxesSubplot at 0x7f6617a7a9d0>"
            ]
          },
          "metadata": {},
          "execution_count": 30
        },
        {
          "output_type": "display_data",
          "data": {
            "image/png": "[encoded data removed]",
            "text/plain": [
              "<Figure size 432x432 with 2 Axes>"
            ]
          },
          "metadata": {
            "needs_background": "light"
          }
        }
      ]
    },
    {
      "cell_type": "code",
      "metadata": {
        "id": "YDosSwwbMDAu",
        "colab": {
          "base_uri": "https://localhost:8080/"
        },
        "outputId": "4c771652-465b-4ce5-c96b-91e06e8275ed"
      },
      "source": [
        "accuracy,precision,recall=model_validation_metrics(cm_train)\n",
        "print('Akurasi :', accuracy)\n",
        "print('Presisi', precision)\n",
        "print('Recall', recall)"
      ],
      "execution_count": 31,
      "outputs": [
        {
          "output_type": "stream",
          "name": "stdout",
          "text": [
            "Akurasi : 0.7442857142857143\n",
            "Presisi 0.7242268041237113\n",
            "Recall 0.7960339943342776\n"
          ]
        }
      ]
    },
    {
      "cell_type": "code",
      "metadata": {
        "id": "o4C3rWFFMrSa",
        "colab": {
          "base_uri": "https://localhost:8080/",
          "height": 295
        },
        "outputId": "75371001-fb2b-4621-a91e-03ed2636e1c5"
      },
      "source": [
        "roc_curve_func(y_train,y_train_pred_proba)"
      ],
      "execution_count": 32,
      "outputs": [
        {
          "output_type": "display_data",
          "data": {
            "image/png": "[encoded data removed]",
            "text/plain": [
              "<Figure size 432x288 with 1 Axes>"
            ]
          },
          "metadata": {
            "needs_background": "light"
          }
        }
      ]
    },
    {
      "cell_type": "markdown",
      "metadata": {
        "id": "AGsIGq0CNO-u"
      },
      "source": [
        "#### Cross-Validation"
      ]
    },
    {
      "cell_type": "code",
      "metadata": {
        "id": "u59SaENrNSfw"
      },
      "source": [
        "y_train_pred=model.predict(X_train)\n",
        "y_test_pred=model.predict(X_test)"
      ],
      "execution_count": 33,
      "outputs": []
    },
    {
      "cell_type": "code",
      "metadata": {
        "id": "7yfU40qrNaI6"
      },
      "source": [
        "cm_train=confusion_matrix(y_train, y_train_pred)\n",
        "cm_test=confusion_matrix(y_test, y_test_pred)"
      ],
      "execution_count": 34,
      "outputs": []
    },
    {
      "cell_type": "code",
      "metadata": {
        "id": "Vcp5KXR1NdA7"
      },
      "source": [
        "def basic_eval(tm,cm):\n",
        "  plt.figure(figsize=(6,6))\n",
        "  plt.title(tm+\" Evaluation\")\n",
        "  sns.heatmap(cm,annot=True,fmt=',.0f',linewidths=3, annot_kws={\"fontsize\":16})\n",
        "  accuracy,precision,recall=model_validation_metrics(cm)\n",
        "  print(\"accuracy :\",accuracy)\n",
        "  print(\"precision :\",precision)\n",
        "  print(\"recall :\",recall)"
      ],
      "execution_count": 35,
      "outputs": []
    },
    {
      "cell_type": "code",
      "metadata": {
        "id": "k5fEnDDyNgb7",
        "colab": {
          "base_uri": "https://localhost:8080/",
          "height": 441
        },
        "outputId": "ce9354d5-62a4-4d7b-c2e1-919b98289967"
      },
      "source": [
        "basic_eval('Train',cm_train)"
      ],
      "execution_count": 36,
      "outputs": [
        {
          "output_type": "stream",
          "name": "stdout",
          "text": [
            "accuracy : 0.7442857142857143\n",
            "precision : 0.7242268041237113\n",
            "recall : 0.7960339943342776\n"
          ]
        },
        {
          "output_type": "display_data",
          "data": {
            "image/png": "[encoded data removed]",
            "text/plain": [
              "<Figure size 432x432 with 2 Axes>"
            ]
          },
          "metadata": {
            "needs_background": "light"
          }
        }
      ]
    },
    {
      "cell_type": "code",
      "metadata": {
        "id": "sE0fhSdlNpvu",
        "colab": {
          "base_uri": "https://localhost:8080/",
          "height": 441
        },
        "outputId": "f10f1205-4ec6-4913-de66-501950220074"
      },
      "source": [
        "basic_eval('Test',cm_test)"
      ],
      "execution_count": 37,
      "outputs": [
        {
          "output_type": "stream",
          "name": "stdout",
          "text": [
            "accuracy : 0.7633333333333333\n",
            "precision : 0.7261904761904762\n",
            "recall : 0.8299319727891157\n"
          ]
        },
        {
          "output_type": "display_data",
          "data": {
            "image/png": "[encoded data removed]",
            "text/plain": [
              "<Figure size 432x432 with 2 Axes>"
            ]
          },
          "metadata": {
            "needs_background": "light"
          }
        }
      ]
    },
    {
      "cell_type": "markdown",
      "metadata": {
        "id": "yJ7_hRddN-AQ"
      },
      "source": [
        "#### Bias-variance trade-off"
      ]
    },
    {
      "cell_type": "code",
      "metadata": {
        "id": "jGEexLXPOD4G"
      },
      "source": [
        "## Check on hyperparameter changing\n",
        "hyper_param_list=[x for x in range(30, 41)]"
      ],
      "execution_count": 38,
      "outputs": []
    },
    {
      "cell_type": "code",
      "metadata": {
        "id": "kTnpd5A2OHaW"
      },
      "source": [
        "df_trade_off=[]\n",
        "for md in hyper_param_list:\n",
        "  model_trade_off=KNeighborsClassifier(n_neighbors=md, weights='uniform', algorithm='auto', p=2)\n",
        "\n",
        "  # model_base=RandomForestClassifier(n_estimators=40, max_depth=md,min_samples_split=3)\n",
        "  # model_churn_trade_off=AdaBoostClassifier(base_estimator=model_base, n_estimators=15, learning_rate=0.2, random_state=321)  \n",
        "\n",
        "  model_trade_off.fit(X_train,y_train)\n",
        "  y_train_pred_temp=model_trade_off.predict(X_train)\n",
        "  y_test_pred_temp=model_trade_off.predict(X_test)\n",
        "  cm_train=confusion_matrix(y_train, y_train_pred_temp)\n",
        "  cm_test=confusion_matrix(y_test, y_test_pred_temp)\n",
        "  acc_train,p,r=model_validation_metrics(cm_train)\n",
        "  acc_test,p,r =model_validation_metrics(cm_test)\n",
        "  df_trade_off.append([acc_train,acc_test])\n",
        "df_trade_off=pd.DataFrame(df_trade_off,columns=['train_accuracy','test_accuracy'],index=hyper_param_list)"
      ],
      "execution_count": 39,
      "outputs": []
    },
    {
      "cell_type": "code",
      "metadata": {
        "id": "OQvzqR7jRkCp",
        "colab": {
          "base_uri": "https://localhost:8080/",
          "height": 500
        },
        "outputId": "8f0016ac-6c81-429f-ad16-a3de59354fbd"
      },
      "source": [
        "df_trade_off.plot(figsize=(15,8))"
      ],
      "execution_count": 40,
      "outputs": [
        {
          "output_type": "execute_result",
          "data": {
            "text/plain": [
              "<matplotlib.axes._subplots.AxesSubplot at 0x7f660f8d0ad0>"
            ]
          },
          "metadata": {},
          "execution_count": 40
        },
        {
          "output_type": "display_data",
          "data": {
            "image/png": "[encoded data removed]",
            "text/plain": [
              "<Figure size 1080x576 with 1 Axes>"
            ]
          },
          "metadata": {
            "needs_background": "light"
          }
        }
      ]
    },
    {
      "cell_type": "markdown",
      "metadata": {
        "id": "j44KP-V72J_g"
      },
      "source": [
        "### Accuracy Score"
      ]
    },
    {
      "cell_type": "code",
      "metadata": {
        "colab": {
          "base_uri": "https://localhost:8080/"
        },
        "id": "jY_NIFXzKh-b",
        "outputId": "c69db92c-60f2-4e09-c4a2-88c485883831"
      },
      "source": [
        "#Import modul scikit-learn metrics \n",
        "from sklearn import metrics\n",
        "# Model Accuracy\n",
        "y_pred = model.predict(X_test)\n",
        "print(\"Accuracy:\",metrics.accuracy_score(y_test, y_pred))"
      ],
      "execution_count": 41,
      "outputs": [
        {
          "output_type": "stream",
          "name": "stdout",
          "text": [
            "Accuracy: 0.7633333333333333\n"
          ]
        }
      ]
    },
    {
      "cell_type": "code",
      "metadata": {
        "id": "zqFxyFgAI5Pa",
        "colab": {
          "base_uri": "https://localhost:8080/"
        },
        "outputId": "689440f3-31d2-40db-fc4f-907337d3f9d1"
      },
      "source": [
        "print(metrics.classification_report(y_test, y_pred))"
      ],
      "execution_count": 42,
      "outputs": [
        {
          "output_type": "stream",
          "name": "stdout",
          "text": [
            "              precision    recall  f1-score   support\n",
            "\n",
            "           0       0.81      0.70      0.75       153\n",
            "           1       0.73      0.83      0.77       147\n",
            "\n",
            "    accuracy                           0.76       300\n",
            "   macro avg       0.77      0.76      0.76       300\n",
            "weighted avg       0.77      0.76      0.76       300\n",
            "\n"
          ]
        }
      ]
    },
    {
      "cell_type": "markdown",
      "metadata": {
        "id": "zA8Kf8luZwt7"
      },
      "source": [
        "## Random Forest"
      ]
    },
    {
      "cell_type": "code",
      "metadata": {
        "id": "Dj_RiPuHI7aD"
      },
      "source": [
        "from sklearn.ensemble import RandomForestClassifier"
      ],
      "execution_count": 43,
      "outputs": []
    },
    {
      "cell_type": "markdown",
      "metadata": {
        "id": "bGQb1iF52dy8"
      },
      "source": [
        "### Train Model\n"
      ]
    },
    {
      "cell_type": "code",
      "metadata": {
        "id": "BCE_5IUjapTk"
      },
      "source": [
        "model2 = RandomForestClassifier(bootstrap=True, ccp_alpha=0.0, class_weight=None,\n",
        "                       criterion='gini', max_depth=9, max_features='auto',\n",
        "                       max_leaf_nodes=6, max_samples=None,\n",
        "                       min_impurity_decrease=0.0, min_impurity_split=None,\n",
        "                       min_samples_leaf=1, min_samples_split=4,\n",
        "                       min_weight_fraction_leaf=0.0, n_estimators=7,\n",
        "                       n_jobs=None, oob_score=False, random_state=None,\n",
        "                       verbose=0, warm_start=False)"
      ],
      "execution_count": 109,
      "outputs": []
    },
    {
      "cell_type": "code",
      "metadata": {
        "colab": {
          "base_uri": "https://localhost:8080/"
        },
        "id": "n7xYrT5cbTfj",
        "outputId": "ecfd93b4-78d1-4bdf-f107-39854958c898"
      },
      "source": [
        "model2.fit(X_train, y_train)"
      ],
      "execution_count": 110,
      "outputs": [
        {
          "output_type": "execute_result",
          "data": {
            "text/plain": [
              "RandomForestClassifier(bootstrap=True, ccp_alpha=0.0, class_weight=None,\n",
              "                       criterion='gini', max_depth=9, max_features='auto',\n",
              "                       max_leaf_nodes=6, max_samples=None,\n",
              "                       min_impurity_decrease=0.0, min_impurity_split=None,\n",
              "                       min_samples_leaf=1, min_samples_split=4,\n",
              "                       min_weight_fraction_leaf=0.0, n_estimators=7,\n",
              "                       n_jobs=None, oob_score=False, random_state=None,\n",
              "                       verbose=0, warm_start=False)"
            ]
          },
          "metadata": {},
          "execution_count": 110
        }
      ]
    },
    {
      "cell_type": "markdown",
      "metadata": {
        "id": "vQ9gsODA2h5v"
      },
      "source": [
        "### Cross-Validation"
      ]
    },
    {
      "cell_type": "code",
      "metadata": {
        "id": "IXa11aNZhMnO"
      },
      "source": [
        "y_train_pred=model.predict(X_train)\n",
        "y_test_pred=model.predict(X_test)"
      ],
      "execution_count": 111,
      "outputs": []
    },
    {
      "cell_type": "code",
      "metadata": {
        "id": "S0RiHi3rhVKQ"
      },
      "source": [
        "cm_train=confusion_matrix(y_train, y_train_pred)\n",
        "cm_test=confusion_matrix(y_test, y_test_pred)"
      ],
      "execution_count": 112,
      "outputs": []
    },
    {
      "cell_type": "code",
      "metadata": {
        "id": "sffj80aDhXHg",
        "outputId": "79c96800-2879-4370-fdf8-d9924fdf4e80",
        "colab": {
          "base_uri": "https://localhost:8080/",
          "height": 441
        }
      },
      "source": [
        "basic_eval('Train',cm_train)"
      ],
      "execution_count": 113,
      "outputs": [
        {
          "output_type": "stream",
          "name": "stdout",
          "text": [
            "accuracy : 0.7442857142857143\n",
            "precision : 0.7242268041237113\n",
            "recall : 0.7960339943342776\n"
          ]
        },
        {
          "output_type": "display_data",
          "data": {
            "image/png": "[encoded data removed]",
            "text/plain": [
              "<Figure size 432x432 with 2 Axes>"
            ]
          },
          "metadata": {
            "needs_background": "light"
          }
        }
      ]
    },
    {
      "cell_type": "code",
      "metadata": {
        "id": "Oqo3Ty8HhaDx",
        "outputId": "ef20f85c-bf9b-4b78-99d8-005cd6b760f9",
        "colab": {
          "base_uri": "https://localhost:8080/",
          "height": 441
        }
      },
      "source": [
        "basic_eval('Test',cm_test)"
      ],
      "execution_count": 114,
      "outputs": [
        {
          "output_type": "stream",
          "name": "stdout",
          "text": [
            "accuracy : 0.7633333333333333\n",
            "precision : 0.7261904761904762\n",
            "recall : 0.8299319727891157\n"
          ]
        },
        {
          "output_type": "display_data",
          "data": {
            "image/png": "[encoded data removed]",
            "text/plain": [
              "<Figure size 432x432 with 2 Axes>"
            ]
          },
          "metadata": {
            "needs_background": "light"
          }
        }
      ]
    },
    {
      "cell_type": "markdown",
      "metadata": {
        "id": "_3TLIhU22mcO"
      },
      "source": [
        "### Bias-variance trade-off"
      ]
    },
    {
      "cell_type": "code",
      "metadata": {
        "id": "vOEyhQ0TheEg"
      },
      "source": [
        "hyper_param_list=[x for x in range(2, 10)]"
      ],
      "execution_count": 103,
      "outputs": []
    },
    {
      "cell_type": "code",
      "metadata": {
        "id": "DsZCcNc6hpDs"
      },
      "source": [
        "df_trade_off=[]\n",
        "for md in hyper_param_list:\n",
        "  model_trade_off=RandomForestClassifier(min_samples_split=md, random_state=101)\n",
        "\n",
        "  # model_base=RandomForestClassifier(n_estimators=40, max_depth=md,min_samples_split=3)\n",
        "  # model_churn_trade_off=AdaBoostClassifier(base_estimator=model_base, n_estimators=15, learning_rate=0.2, random_state=321)  \n",
        "\n",
        "  model_trade_off.fit(X_train,y_train)\n",
        "  y_train_pred_temp=model_trade_off.predict(X_train)\n",
        "  y_test_pred_temp=model_trade_off.predict(X_test)\n",
        "  cm_train=confusion_matrix(y_train, y_train_pred_temp)\n",
        "  cm_test=confusion_matrix(y_test, y_test_pred_temp)\n",
        "  acc_train,p,r=model_validation_metrics(cm_train)\n",
        "  acc_test,p,r =model_validation_metrics(cm_test)\n",
        "  df_trade_off.append([acc_train,acc_test])\n",
        "df_trade_off=pd.DataFrame(df_trade_off,columns=['train_accuracy','test_accuracy'],index=hyper_param_list)"
      ],
      "execution_count": 104,
      "outputs": []
    },
    {
      "cell_type": "code",
      "metadata": {
        "id": "FiMx73YahrXX",
        "outputId": "51b10304-257f-4924-9c74-1f4a5eb5ca5d",
        "colab": {
          "base_uri": "https://localhost:8080/",
          "height": 500
        }
      },
      "source": [
        "df_trade_off.plot(figsize=(15,8))"
      ],
      "execution_count": 105,
      "outputs": [
        {
          "output_type": "execute_result",
          "data": {
            "text/plain": [
              "<matplotlib.axes._subplots.AxesSubplot at 0x7f6608718910>"
            ]
          },
          "metadata": {},
          "execution_count": 105
        },
        {
          "output_type": "display_data",
          "data": {
            "image/png": "[encoded data removed]",
            "text/plain": [
              "<Figure size 1080x576 with 1 Axes>"
            ]
          },
          "metadata": {
            "needs_background": "light"
          }
        }
      ]
    },
    {
      "cell_type": "markdown",
      "metadata": {
        "id": "vDXUPlGE2sAx"
      },
      "source": [
        "### Model Selection"
      ]
    },
    {
      "cell_type": "code",
      "metadata": {
        "id": "MTA14AZBhumo"
      },
      "source": [
        "from sklearn.model_selection import GridSearchCV"
      ],
      "execution_count": 53,
      "outputs": []
    },
    {
      "cell_type": "code",
      "metadata": {
        "id": "zKxOoScxkv7P"
      },
      "source": [
        "parameters = {'n_estimators':[1, 3, 5, 7],'max_depth':[3, 5, 8, 9], 'min_samples_split':[4, 6],'max_leaf_nodes':[3, 6, 11]}\n",
        "\n",
        "clf_search1 = GridSearchCV(model2, parameters, cv=5,verbose=1)"
      ],
      "execution_count": 106,
      "outputs": []
    },
    {
      "cell_type": "code",
      "metadata": {
        "id": "JkLpgKnnlIVc",
        "outputId": "a633173a-c6d6-43fe-9044-45160e270b84",
        "colab": {
          "base_uri": "https://localhost:8080/"
        }
      },
      "source": [
        "L0=time.time()\n",
        "clf_search1.fit(X_train,y_train)\n",
        "print(time.time()-L0)"
      ],
      "execution_count": 107,
      "outputs": [
        {
          "output_type": "stream",
          "name": "stdout",
          "text": [
            "Fitting 5 folds for each of 96 candidates, totalling 480 fits\n"
          ]
        },
        {
          "output_type": "stream",
          "name": "stderr",
          "text": [
            "[Parallel(n_jobs=1)]: Using backend SequentialBackend with 1 concurrent workers.\n"
          ]
        },
        {
          "output_type": "stream",
          "name": "stdout",
          "text": [
            "4.167477130889893\n"
          ]
        },
        {
          "output_type": "stream",
          "name": "stderr",
          "text": [
            "[Parallel(n_jobs=1)]: Done 480 out of 480 | elapsed:    4.1s finished\n"
          ]
        }
      ]
    },
    {
      "cell_type": "code",
      "metadata": {
        "id": "aSxSyErvlOpx",
        "outputId": "042a870e-a124-47c7-e533-b713dbc330cd",
        "colab": {
          "base_uri": "https://localhost:8080/"
        }
      },
      "source": [
        "clf_search1.best_estimator_"
      ],
      "execution_count": 108,
      "outputs": [
        {
          "output_type": "execute_result",
          "data": {
            "text/plain": [
              "RandomForestClassifier(bootstrap=True, ccp_alpha=0.0, class_weight=None,\n",
              "                       criterion='gini', max_depth=9, max_features='auto',\n",
              "                       max_leaf_nodes=6, max_samples=None,\n",
              "                       min_impurity_decrease=0.0, min_impurity_split=None,\n",
              "                       min_samples_leaf=1, min_samples_split=4,\n",
              "                       min_weight_fraction_leaf=0.0, n_estimators=7,\n",
              "                       n_jobs=None, oob_score=False, random_state=None,\n",
              "                       verbose=0, warm_start=False)"
            ]
          },
          "metadata": {},
          "execution_count": 108
        }
      ]
    },
    {
      "cell_type": "markdown",
      "metadata": {
        "id": "lL3EBs6T2yRY"
      },
      "source": [
        "### Accuracy Score"
      ]
    },
    {
      "cell_type": "code",
      "metadata": {
        "id": "wwA1fojXlqWW",
        "outputId": "0296f0e1-bb38-43ae-f5e6-f95b5f69f99d",
        "colab": {
          "base_uri": "https://localhost:8080/"
        }
      },
      "source": [
        "#Import modul scikit-learn metrics \n",
        "from sklearn import metrics\n",
        "# Model Accuracy\n",
        "y_pred = model2.predict(X_test)\n",
        "print(\"Accuracy:\",metrics.accuracy_score(y_test, y_pred))"
      ],
      "execution_count": 115,
      "outputs": [
        {
          "output_type": "stream",
          "name": "stdout",
          "text": [
            "Accuracy: 0.79\n"
          ]
        }
      ]
    },
    {
      "cell_type": "code",
      "metadata": {
        "id": "IbFrRBur1-Vf",
        "outputId": "94e2df2e-4acc-499b-a88f-d406b7ba8233",
        "colab": {
          "base_uri": "https://localhost:8080/"
        }
      },
      "source": [
        "print(metrics.classification_report(y_test, y_pred))"
      ],
      "execution_count": 116,
      "outputs": [
        {
          "output_type": "stream",
          "name": "stdout",
          "text": [
            "              precision    recall  f1-score   support\n",
            "\n",
            "           0       0.80      0.78      0.79       153\n",
            "           1       0.78      0.80      0.79       147\n",
            "\n",
            "    accuracy                           0.79       300\n",
            "   macro avg       0.79      0.79      0.79       300\n",
            "weighted avg       0.79      0.79      0.79       300\n",
            "\n"
          ]
        }
      ]
    },
    {
      "cell_type": "code",
      "metadata": {
        "id": "oKm7_h3W28Np"
      },
      "source": [
        "df_imp = pd.DataFrame({'cols':cols,'importance':model2.feature_importances_})\n",
        "df_imp = df_imp.set_index('cols')"
      ],
      "execution_count": 118,
      "outputs": []
    },
    {
      "cell_type": "code",
      "metadata": {
        "id": "jg-uf1p_3OjV",
        "outputId": "f17dd2bc-d8ab-4c67-91aa-77d349d902cf",
        "colab": {
          "base_uri": "https://localhost:8080/",
          "height": 282
        }
      },
      "source": [
        "df_imp.sort_values('importance').plot(kind = 'barh')"
      ],
      "execution_count": 119,
      "outputs": [
        {
          "output_type": "execute_result",
          "data": {
            "text/plain": [
              "<matplotlib.axes._subplots.AxesSubplot at 0x7f6608b10690>"
            ]
          },
          "metadata": {},
          "execution_count": 119
        },
        {
          "output_type": "display_data",
          "data": {
            "image/png": "[encoded data removed]",
            "text/plain": [
              "<Figure size 432x288 with 1 Axes>"
            ]
          },
          "metadata": {
            "needs_background": "light"
          }
        }
      ]
    }
  ]
}