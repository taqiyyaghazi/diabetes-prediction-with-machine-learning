{
  "nbformat": 4,
  "nbformat_minor": 0,
  "metadata": {
    "colab": {
      "name": "KNN.ipynb",
      "provenance": [],
      "collapsed_sections": []
    },
    "kernelspec": {
      "name": "python3",
      "display_name": "Python 3"
    },
    "language_info": {
      "name": "python"
    }
  },
  "cells": [
    {
      "cell_type": "markdown",
      "metadata": {
        "id": "5AWSoga4LDuZ"
      },
      "source": [
        "# Import Package"
      ]
    },
    {
      "cell_type": "code",
      "metadata": {
        "id": "k2iKxY-u7UPv"
      },
      "source": [
        "## Import Packages\n",
        "import pandas as pd\n",
        "import seaborn as sns\n",
        "import matplotlib.pyplot as plt\n",
        "import numpy as np\n",
        "import os\n",
        "%matplotlib inline"
      ],
      "execution_count": 1,
      "outputs": []
    },
    {
      "cell_type": "markdown",
      "metadata": {
        "id": "N23A8j3zF3H9"
      },
      "source": [
        "# Import Data"
      ]
    },
    {
      "cell_type": "code",
      "metadata": {
        "id": "ij8ksFMG7ZK_"
      },
      "source": [
        "# import data diabetes\n",
        "dataset = pd.read_csv(\"https://raw.githubusercontent.com/taqiyyaghazi/knn_diabetes/main/diabetes.csv\")"
      ],
      "execution_count": 2,
      "outputs": []
    },
    {
      "cell_type": "code",
      "metadata": {
        "colab": {
          "base_uri": "https://localhost:8080/",
          "height": 223
        },
        "id": "ZfvxtHIh7lHl",
        "outputId": "b2aadea0-55ba-48a3-e07f-98b37e1e53f4"
      },
      "source": [
        "# Melihat 5 data awal\n",
        "dataset.head()"
      ],
      "execution_count": 3,
      "outputs": [
        {
          "output_type": "execute_result",
          "data": {
            "text/html": [
              "<div>\n",
              "<style scoped>\n",
              "    .dataframe tbody tr th:only-of-type {\n",
              "        vertical-align: middle;\n",
              "    }\n",
              "\n",
              "    .dataframe tbody tr th {\n",
              "        vertical-align: top;\n",
              "    }\n",
              "\n",
              "    .dataframe thead th {\n",
              "        text-align: right;\n",
              "    }\n",
              "</style>\n",
              "<table border=\"1\" class=\"dataframe\">\n",
              "  <thead>\n",
              "    <tr style=\"text-align: right;\">\n",
              "      <th></th>\n",
              "      <th>Pregnancies</th>\n",
              "      <th>Glucose</th>\n",
              "      <th>BloodPressure</th>\n",
              "      <th>SkinThickness</th>\n",
              "      <th>Insulin</th>\n",
              "      <th>BMI</th>\n",
              "      <th>DiabetesPedigreeFunction</th>\n",
              "      <th>Age</th>\n",
              "      <th>Outcome</th>\n",
              "    </tr>\n",
              "  </thead>\n",
              "  <tbody>\n",
              "    <tr>\n",
              "      <th>0</th>\n",
              "      <td>6</td>\n",
              "      <td>148</td>\n",
              "      <td>72</td>\n",
              "      <td>35</td>\n",
              "      <td>0</td>\n",
              "      <td>33.6</td>\n",
              "      <td>0.627</td>\n",
              "      <td>50</td>\n",
              "      <td>1</td>\n",
              "    </tr>\n",
              "    <tr>\n",
              "      <th>1</th>\n",
              "      <td>1</td>\n",
              "      <td>85</td>\n",
              "      <td>66</td>\n",
              "      <td>29</td>\n",
              "      <td>0</td>\n",
              "      <td>26.6</td>\n",
              "      <td>0.351</td>\n",
              "      <td>31</td>\n",
              "      <td>0</td>\n",
              "    </tr>\n",
              "    <tr>\n",
              "      <th>2</th>\n",
              "      <td>8</td>\n",
              "      <td>183</td>\n",
              "      <td>64</td>\n",
              "      <td>0</td>\n",
              "      <td>0</td>\n",
              "      <td>23.3</td>\n",
              "      <td>0.672</td>\n",
              "      <td>32</td>\n",
              "      <td>1</td>\n",
              "    </tr>\n",
              "    <tr>\n",
              "      <th>3</th>\n",
              "      <td>1</td>\n",
              "      <td>89</td>\n",
              "      <td>66</td>\n",
              "      <td>23</td>\n",
              "      <td>94</td>\n",
              "      <td>28.1</td>\n",
              "      <td>0.167</td>\n",
              "      <td>21</td>\n",
              "      <td>0</td>\n",
              "    </tr>\n",
              "    <tr>\n",
              "      <th>4</th>\n",
              "      <td>0</td>\n",
              "      <td>137</td>\n",
              "      <td>40</td>\n",
              "      <td>35</td>\n",
              "      <td>168</td>\n",
              "      <td>43.1</td>\n",
              "      <td>2.288</td>\n",
              "      <td>33</td>\n",
              "      <td>1</td>\n",
              "    </tr>\n",
              "  </tbody>\n",
              "</table>\n",
              "</div>"
            ],
            "text/plain": [
              "   Pregnancies  Glucose  BloodPressure  ...  DiabetesPedigreeFunction  Age  Outcome\n",
              "0            6      148             72  ...                     0.627   50        1\n",
              "1            1       85             66  ...                     0.351   31        0\n",
              "2            8      183             64  ...                     0.672   32        1\n",
              "3            1       89             66  ...                     0.167   21        0\n",
              "4            0      137             40  ...                     2.288   33        1\n",
              "\n",
              "[5 rows x 9 columns]"
            ]
          },
          "metadata": {},
          "execution_count": 3
        }
      ]
    },
    {
      "cell_type": "code",
      "metadata": {
        "colab": {
          "base_uri": "https://localhost:8080/"
        },
        "id": "qsbJabdeLQXd",
        "outputId": "ba643dfc-b65c-4038-aa03-45cc385e6d4b"
      },
      "source": [
        "dataset['Outcome'].value_counts()"
      ],
      "execution_count": 4,
      "outputs": [
        {
          "output_type": "execute_result",
          "data": {
            "text/plain": [
              "0    500\n",
              "1    268\n",
              "Name: Outcome, dtype: int64"
            ]
          },
          "metadata": {},
          "execution_count": 4
        }
      ]
    },
    {
      "cell_type": "code",
      "metadata": {
        "colab": {
          "base_uri": "https://localhost:8080/"
        },
        "id": "KyuSXkT7Lhw9",
        "outputId": "36bdf362-f908-4a5c-c2c2-5ac66168734e"
      },
      "source": [
        "dataset.columns"
      ],
      "execution_count": 5,
      "outputs": [
        {
          "output_type": "execute_result",
          "data": {
            "text/plain": [
              "Index(['Pregnancies', 'Glucose', 'BloodPressure', 'SkinThickness', 'Insulin',\n",
              "       'BMI', 'DiabetesPedigreeFunction', 'Age', 'Outcome'],\n",
              "      dtype='object')"
            ]
          },
          "metadata": {},
          "execution_count": 5
        }
      ]
    },
    {
      "cell_type": "markdown",
      "metadata": {
        "id": "nXuhgzP4L9jV"
      },
      "source": [
        "# Data Preparation"
      ]
    },
    {
      "cell_type": "markdown",
      "metadata": {
        "id": "3u4SSmrZNhh7"
      },
      "source": [
        "## Cek Missing Value"
      ]
    },
    {
      "cell_type": "code",
      "metadata": {
        "colab": {
          "base_uri": "https://localhost:8080/"
        },
        "id": "GnxIKoQmL1jF",
        "outputId": "6e3e94d1-2a32-44e1-9938-af1e6607f3f2"
      },
      "source": [
        "dataset.isnull().sum()"
      ],
      "execution_count": 6,
      "outputs": [
        {
          "output_type": "execute_result",
          "data": {
            "text/plain": [
              "Pregnancies                 0\n",
              "Glucose                     0\n",
              "BloodPressure               0\n",
              "SkinThickness               0\n",
              "Insulin                     0\n",
              "BMI                         0\n",
              "DiabetesPedigreeFunction    0\n",
              "Age                         0\n",
              "Outcome                     0\n",
              "dtype: int64"
            ]
          },
          "metadata": {},
          "execution_count": 6
        }
      ]
    },
    {
      "cell_type": "markdown",
      "metadata": {
        "id": "Orieed2iNmvj"
      },
      "source": [
        "## Cek Tipe Data"
      ]
    },
    {
      "cell_type": "code",
      "metadata": {
        "colab": {
          "base_uri": "https://localhost:8080/"
        },
        "id": "RUXXI2WxMBPq",
        "outputId": "f105086f-c07d-4eff-cadf-ec8d677e0d4d"
      },
      "source": [
        "dataset.dtypes"
      ],
      "execution_count": 7,
      "outputs": [
        {
          "output_type": "execute_result",
          "data": {
            "text/plain": [
              "Pregnancies                   int64\n",
              "Glucose                       int64\n",
              "BloodPressure                 int64\n",
              "SkinThickness                 int64\n",
              "Insulin                       int64\n",
              "BMI                         float64\n",
              "DiabetesPedigreeFunction    float64\n",
              "Age                           int64\n",
              "Outcome                       int64\n",
              "dtype: object"
            ]
          },
          "metadata": {},
          "execution_count": 7
        }
      ]
    },
    {
      "cell_type": "markdown",
      "metadata": {
        "id": "VBwh9e4YOOL8"
      },
      "source": [
        "## Cek Data Outlier"
      ]
    },
    {
      "cell_type": "markdown",
      "metadata": {
        "id": "he2adPTePb73"
      },
      "source": [
        "### Nilai Outlier dengan Boxplot"
      ]
    },
    {
      "cell_type": "code",
      "metadata": {
        "colab": {
          "base_uri": "https://localhost:8080/",
          "height": 334
        },
        "id": "JnL_u74YNsEM",
        "outputId": "f04ad80f-e9ba-4dcd-b2e8-5a0ff2d08918"
      },
      "source": [
        "cols = ['Pregnancies', 'Glucose', 'BloodPressure', 'SkinThickness', 'Insulin',\n",
        "       'BMI', 'DiabetesPedigreeFunction', 'Age']\n",
        "plt.figure(figsize=(19,9))\n",
        "dataset[cols].boxplot()\n",
        "plt.title(\"Variabel Numerik di Dataset Diabetes\", fontsize=20)\n",
        "plt.show()"
      ],
      "execution_count": 8,
      "outputs": [
        {
          "output_type": "display_data",
          "data": {
            "image/png": "[encoded data removed]",
            "text/plain": [
              "<Figure size 1368x648 with 1 Axes>"
            ]
          },
          "metadata": {
            "needs_background": "light"
          }
        }
      ]
    },
    {
      "cell_type": "markdown",
      "metadata": {
        "id": "kG9oMVekPmIA"
      },
      "source": [
        "### Nilai Outlier dengan Z-Score\n",
        "\n",
        "Sumber : https://www.analyticsvidhya.com/blog/2021/05/detecting-and-treating-outliers-treating-the-odd-one-out/"
      ]
    },
    {
      "cell_type": "code",
      "metadata": {
        "colab": {
          "base_uri": "https://localhost:8080/"
        },
        "id": "g0qhaEK3OSxS",
        "outputId": "3fa2fe9e-bd11-46b7-c041-e0bcb1eb297b"
      },
      "source": [
        "def detect_outliers_zscore(data):\n",
        "    outliers = []\n",
        "    thres = 3\n",
        "    mean = np.mean(data)\n",
        "    std = np.std(data)\n",
        "    # print(mean, std)\n",
        "    for i in data:\n",
        "        z_score = (i-mean)/std\n",
        "        if (np.abs(z_score) > thres):\n",
        "            outliers.append(i)\n",
        "    return outliers\n",
        "data_outlier = {}\n",
        "for col in cols:\n",
        "  data_outlier[col] = detect_outliers_zscore(dataset[col])\n",
        "  print(\"Outliers from Z-scores method (\", col, \")\", len(data_outlier[col]), \"outlier :\", data_outlier[col])\n",
        "\n"
      ],
      "execution_count": 9,
      "outputs": [
        {
          "output_type": "stream",
          "name": "stdout",
          "text": [
            "Outliers from Z-scores method ( Pregnancies ) 4 outlier : [15, 17, 14, 14]\n",
            "Outliers from Z-scores method ( Glucose ) 5 outlier : [0, 0, 0, 0, 0]\n",
            "Outliers from Z-scores method ( BloodPressure ) 35 outlier : [0, 0, 0, 0, 0, 0, 0, 0, 0, 0, 0, 0, 0, 0, 0, 0, 0, 0, 0, 0, 0, 0, 0, 0, 0, 0, 0, 0, 0, 0, 0, 0, 0, 0, 0]\n",
            "Outliers from Z-scores method ( SkinThickness ) 1 outlier : [99]\n",
            "Outliers from Z-scores method ( Insulin ) 18 outlier : [543, 846, 495, 485, 495, 478, 744, 680, 545, 465, 579, 474, 480, 600, 440, 540, 480, 510]\n",
            "Outliers from Z-scores method ( BMI ) 14 outlier : [0.0, 0.0, 0.0, 0.0, 0.0, 67.1, 0.0, 0.0, 59.4, 0.0, 0.0, 57.3, 0.0, 0.0]\n",
            "Outliers from Z-scores method ( DiabetesPedigreeFunction ) 11 outlier : [2.2880000000000003, 1.893, 1.781, 2.329, 1.476, 2.137, 1.7309999999999999, 1.6, 2.42, 1.699, 1.6980000000000002]\n",
            "Outliers from Z-scores method ( Age ) 5 outlier : [69, 72, 81, 70, 69]\n"
          ]
        }
      ]
    },
    {
      "cell_type": "markdown",
      "metadata": {
        "id": "384NHVlFSCPk"
      },
      "source": [
        "### Nilai Outlier dengan IQR"
      ]
    },
    {
      "cell_type": "code",
      "metadata": {
        "colab": {
          "base_uri": "https://localhost:8080/"
        },
        "id": "kzWSu1WaSFCb",
        "outputId": "d5d199c5-8b1e-4913-b0d2-fffdb321407a"
      },
      "source": [
        "\n",
        "def detect_outliers_iqr(data):\n",
        "    outliers = []\n",
        "    data = sorted(data)\n",
        "    q1 = np.percentile(data, 25)\n",
        "    q3 = np.percentile(data, 75)\n",
        "    # print(q1, q3)\n",
        "    IQR = q3-q1\n",
        "    lwr_bound = q1-(1.5*IQR)\n",
        "    upr_bound = q3+(1.5*IQR)\n",
        "    # print(lwr_bound, upr_bound)\n",
        "    for i in data: \n",
        "        if (i<lwr_bound or i>upr_bound):\n",
        "            outliers.append(i)\n",
        "    return outliers\n",
        "data_outlier = {}\n",
        "for col in cols:\n",
        "  data_outlier[col] = detect_outliers_iqr(dataset[col])\n",
        "  print(\"Outliers from Z-scores method (\", col, \")\", len(data_outlier[col]), \"outlier :\", data_outlier[col])"
      ],
      "execution_count": 10,
      "outputs": [
        {
          "output_type": "stream",
          "name": "stdout",
          "text": [
            "Outliers from Z-scores method ( Pregnancies ) 4 outlier : [14, 14, 15, 17]\n",
            "Outliers from Z-scores method ( Glucose ) 5 outlier : [0, 0, 0, 0, 0]\n",
            "Outliers from Z-scores method ( BloodPressure ) 45 outlier : [0, 0, 0, 0, 0, 0, 0, 0, 0, 0, 0, 0, 0, 0, 0, 0, 0, 0, 0, 0, 0, 0, 0, 0, 0, 0, 0, 0, 0, 0, 0, 0, 0, 0, 0, 24, 30, 30, 108, 108, 110, 110, 110, 114, 122]\n",
            "Outliers from Z-scores method ( SkinThickness ) 1 outlier : [99]\n",
            "Outliers from Z-scores method ( Insulin ) 34 outlier : [321, 325, 325, 325, 326, 328, 330, 335, 342, 360, 370, 375, 387, 392, 402, 415, 440, 465, 474, 478, 480, 480, 485, 495, 495, 510, 540, 543, 545, 579, 600, 680, 744, 846]\n",
            "Outliers from Z-scores method ( BMI ) 19 outlier : [0.0, 0.0, 0.0, 0.0, 0.0, 0.0, 0.0, 0.0, 0.0, 0.0, 0.0, 52.3, 52.3, 52.9, 53.2, 55.0, 57.3, 59.4, 67.1]\n",
            "Outliers from Z-scores method ( DiabetesPedigreeFunction ) 29 outlier : [1.213, 1.222, 1.224, 1.224, 1.251, 1.258, 1.268, 1.2819999999999998, 1.2919999999999998, 1.318, 1.321, 1.3530000000000002, 1.39, 1.391, 1.3940000000000001, 1.4, 1.4409999999999998, 1.4609999999999999, 1.476, 1.6, 1.6980000000000002, 1.699, 1.7309999999999999, 1.781, 1.893, 2.137, 2.2880000000000003, 2.329, 2.42]\n",
            "Outliers from Z-scores method ( Age ) 9 outlier : [67, 67, 67, 68, 69, 69, 70, 72, 81]\n"
          ]
        }
      ]
    },
    {
      "cell_type": "markdown",
      "metadata": {
        "id": "D3sunxLjhND_"
      },
      "source": [
        "## Imputasi Data Outlier"
      ]
    },
    {
      "cell_type": "markdown",
      "metadata": {
        "id": "CxjTHc2TlhrD"
      },
      "source": [
        "### Imputasi Data Outlier BloodPressure"
      ]
    },
    {
      "cell_type": "code",
      "metadata": {
        "colab": {
          "base_uri": "https://localhost:8080/"
        },
        "id": "kKuKq0GkY1AM",
        "outputId": "458c9e6a-77a4-4b46-fc49-62a069bea24e"
      },
      "source": [
        "mean_blood = np.mean(dataset['BloodPressure'])\n",
        "mean_blood"
      ],
      "execution_count": 11,
      "outputs": [
        {
          "output_type": "execute_result",
          "data": {
            "text/plain": [
              "69.10546875"
            ]
          },
          "metadata": {},
          "execution_count": 11
        }
      ]
    },
    {
      "cell_type": "code",
      "metadata": {
        "id": "ozAxv12hh1qJ",
        "colab": {
          "base_uri": "https://localhost:8080/"
        },
        "outputId": "e37701b3-dc0b-4237-f05b-9bbc49fcd0a2"
      },
      "source": [
        "for i in data_outlier['BloodPressure']:\n",
        "  dataset['BloodPressure'] = np.where(dataset['BloodPressure']==i, mean_blood, dataset['BloodPressure'])\n",
        "\n",
        "detect_outliers_iqr(dataset['BloodPressure'])"
      ],
      "execution_count": 12,
      "outputs": [
        {
          "output_type": "execute_result",
          "data": {
            "text/plain": [
              "[38.0, 106.0, 106.0, 106.0]"
            ]
          },
          "metadata": {},
          "execution_count": 12
        }
      ]
    },
    {
      "cell_type": "markdown",
      "metadata": {
        "id": "MEwo-jb8lp5Y"
      },
      "source": [
        "### Imputasi Data Outlier Insulin"
      ]
    },
    {
      "cell_type": "code",
      "metadata": {
        "id": "K-ApENbvlwag",
        "colab": {
          "base_uri": "https://localhost:8080/"
        },
        "outputId": "9f2cf606-b327-438e-a90f-7e6de50298d2"
      },
      "source": [
        "median_insulin = np.median(dataset['Insulin'])\n",
        "median_insulin"
      ],
      "execution_count": 13,
      "outputs": [
        {
          "output_type": "execute_result",
          "data": {
            "text/plain": [
              "30.5"
            ]
          },
          "metadata": {},
          "execution_count": 13
        }
      ]
    },
    {
      "cell_type": "code",
      "metadata": {
        "id": "yTDuoCRjl6IR",
        "colab": {
          "base_uri": "https://localhost:8080/"
        },
        "outputId": "1d462fba-0f5a-456a-8837-67afd480bb3b"
      },
      "source": [
        "for i in data_outlier['Insulin']:\n",
        "  dataset['Insulin'] = np.where(dataset['Insulin']==i, median_insulin, dataset['Insulin'])\n",
        "\n",
        "detect_outliers_iqr(dataset['Insulin'])"
      ],
      "execution_count": 14,
      "outputs": [
        {
          "output_type": "execute_result",
          "data": {
            "text/plain": [
              "[277.0,\n",
              " 278.0,\n",
              " 280.0,\n",
              " 284.0,\n",
              " 285.0,\n",
              " 285.0,\n",
              " 291.0,\n",
              " 293.0,\n",
              " 293.0,\n",
              " 300.0,\n",
              " 304.0,\n",
              " 310.0,\n",
              " 318.0]"
            ]
          },
          "metadata": {},
          "execution_count": 14
        }
      ]
    },
    {
      "cell_type": "markdown",
      "metadata": {
        "id": "VqgXXXbwmzxP"
      },
      "source": [
        "### Imputasi Data Outlier Diabetes Pedigree Function"
      ]
    },
    {
      "cell_type": "code",
      "metadata": {
        "id": "DBJAXJq9nOV_",
        "colab": {
          "base_uri": "https://localhost:8080/"
        },
        "outputId": "4413aa1e-31ed-4d71-cf10-d72fc61fb436"
      },
      "source": [
        "median_DPF = np.median(dataset['DiabetesPedigreeFunction'])\n",
        "median_DPF"
      ],
      "execution_count": 15,
      "outputs": [
        {
          "output_type": "execute_result",
          "data": {
            "text/plain": [
              "0.3725"
            ]
          },
          "metadata": {},
          "execution_count": 15
        }
      ]
    },
    {
      "cell_type": "code",
      "metadata": {
        "id": "KlgII96hnfyP",
        "colab": {
          "base_uri": "https://localhost:8080/"
        },
        "outputId": "92261488-14e4-4581-b4db-b10e9cac6da5"
      },
      "source": [
        "for i in data_outlier['DiabetesPedigreeFunction']:\n",
        "  dataset['DiabetesPedigreeFunction'] = np.where(dataset['DiabetesPedigreeFunction']==i, median_DPF, dataset['DiabetesPedigreeFunction'])\n",
        "\n",
        "detect_outliers_iqr(dataset['DiabetesPedigreeFunction'])"
      ],
      "execution_count": 16,
      "outputs": [
        {
          "output_type": "execute_result",
          "data": {
            "text/plain": [
              "[1.095,\n",
              " 1.0959999999999999,\n",
              " 1.101,\n",
              " 1.114,\n",
              " 1.127,\n",
              " 1.136,\n",
              " 1.138,\n",
              " 1.1440000000000001,\n",
              " 1.1540000000000001,\n",
              " 1.159,\n",
              " 1.162,\n",
              " 1.1740000000000002,\n",
              " 1.182,\n",
              " 1.189,\n",
              " 1.1909999999999998]"
            ]
          },
          "metadata": {},
          "execution_count": 16
        }
      ]
    },
    {
      "cell_type": "markdown",
      "metadata": {
        "id": "PwKwkcTNoiFY"
      },
      "source": [
        "### Imputasi Data Outlier BMI"
      ]
    },
    {
      "cell_type": "code",
      "metadata": {
        "id": "7eh74bZporeL",
        "colab": {
          "base_uri": "https://localhost:8080/"
        },
        "outputId": "1eda9690-d11d-4c4c-cfce-e271f1e3b36f"
      },
      "source": [
        "mean_BMI = np.mean(dataset['BMI'])\n",
        "mean_BMI"
      ],
      "execution_count": 17,
      "outputs": [
        {
          "output_type": "execute_result",
          "data": {
            "text/plain": [
              "31.992578124999977"
            ]
          },
          "metadata": {},
          "execution_count": 17
        }
      ]
    },
    {
      "cell_type": "code",
      "metadata": {
        "id": "Z-EwkrOto4mb",
        "colab": {
          "base_uri": "https://localhost:8080/"
        },
        "outputId": "77b6fe50-5d1c-4195-f0ed-5c4b480ef3ba"
      },
      "source": [
        "for i in data_outlier['BMI']:\n",
        "  dataset['BMI'] = np.where(dataset['BMI']==i, mean_BMI, dataset['BMI'])\n",
        "\n",
        "detect_outliers_iqr(dataset['BMI'])"
      ],
      "execution_count": 18,
      "outputs": [
        {
          "output_type": "execute_result",
          "data": {
            "text/plain": [
              "[49.6, 49.7, 50.0]"
            ]
          },
          "metadata": {},
          "execution_count": 18
        }
      ]
    },
    {
      "cell_type": "code",
      "metadata": {
        "id": "2tczHLrwlYPU",
        "colab": {
          "base_uri": "https://localhost:8080/",
          "height": 334
        },
        "outputId": "a0cc8db3-7498-4054-a642-19e64e175fa9"
      },
      "source": [
        "plt.figure(figsize=(19,9))\n",
        "dataset[cols].boxplot()\n",
        "plt.title(\"Variabel Numerik di Dataset Diabetes\", fontsize=20)\n",
        "plt.show()"
      ],
      "execution_count": 19,
      "outputs": [
        {
          "output_type": "display_data",
          "data": {
            "image/png": "[encoded data removed]",
            "text/plain": [
              "<Figure size 1368x648 with 1 Axes>"
            ]
          },
          "metadata": {
            "needs_background": "light"
          }
        }
      ]
    },
    {
      "cell_type": "markdown",
      "metadata": {
        "id": "3tzgM9jkxq73"
      },
      "source": [
        "# Train Model\n",
        "\n"
      ]
    },
    {
      "cell_type": "markdown",
      "metadata": {
        "id": "alY0-HshJ95Q"
      },
      "source": [
        "# Data Split\n"
      ]
    },
    {
      "cell_type": "code",
      "metadata": {
        "id": "HFwhF86eH3H5"
      },
      "source": [
        "# Inisiasi variabel independen dan dependen\n",
        "X = dataset.drop('Outcome', axis=1)\n",
        "y = dataset['Outcome']"
      ],
      "execution_count": 21,
      "outputs": []
    },
    {
      "cell_type": "code",
      "metadata": {
        "id": "iTdBTBway0tD"
      },
      "source": [
        "# Mengubah data outlier\n",
        "# X.replace(to_replace=0, value=X.mean(), inplace=True)"
      ],
      "execution_count": null,
      "outputs": []
    },
    {
      "cell_type": "code",
      "metadata": {
        "id": "G1c0lFCHJpgQ"
      },
      "source": [
        "# Import fungsi train_test_split \n",
        "from sklearn.model_selection import train_test_split\n",
        "\n",
        "# Membagi dataset ke training set and test set\n",
        "X_train, X_test, y_train, y_test = train_test_split(X, y, test_size=0.2, random_state=101) # 70% training and 30% test"
      ],
      "execution_count": 32,
      "outputs": []
    },
    {
      "cell_type": "markdown",
      "metadata": {
        "id": "2_Z9yPaJ1mNY"
      },
      "source": [
        "# Training Model\n"
      ]
    },
    {
      "cell_type": "code",
      "metadata": {
        "id": "mixDMOMjKNLb"
      },
      "source": [
        "# Import modul KNN\n",
        "from sklearn.neighbors import KNeighborsClassifier"
      ],
      "execution_count": 33,
      "outputs": []
    },
    {
      "cell_type": "code",
      "metadata": {
        "id": "BhTOm-Cf2dNn"
      },
      "source": [
        "error = []\n",
        "iterasi = 60\n",
        "# Menghitung eror dari K antara 1-40 \n",
        "for i in range(1, iterasi):\n",
        "    knn = KNeighborsClassifier(n_neighbors=i)\n",
        "    knn.fit(X_train, y_train)\n",
        "    pred_i = knn.predict(X_test)\n",
        "    error.append(np.mean(pred_i != y_test))"
      ],
      "execution_count": 51,
      "outputs": []
    },
    {
      "cell_type": "code",
      "metadata": {
        "colab": {
          "base_uri": "https://localhost:8080/",
          "height": 358
        },
        "id": "YsznlYwd2nQ3",
        "outputId": "ae60c8ab-cf30-4536-fc70-fed71898ebb9"
      },
      "source": [
        "# Membuat Grafik Eror Rate\n",
        "plt.figure(figsize=(12, 6))\n",
        "plt.plot(range(1, iterasi), error, color='red', linestyle='dashed', marker='o',\n",
        "         markerfacecolor='blue', markersize=10)\n",
        "plt.title('Error Rate K Value')\n",
        "plt.xlabel('K Value')\n",
        "plt.ylabel('Mean Error')\n",
        "plt.show()"
      ],
      "execution_count": 52,
      "outputs": [
        {
          "output_type": "display_data",
          "data": {
            "image/png": "[encoded data removed]",
            "text/plain": [
              "<Figure size 864x432 with 1 Axes>"
            ]
          },
          "metadata": {
            "needs_background": "light"
          }
        }
      ]
    },
    {
      "cell_type": "code",
      "metadata": {
        "colab": {
          "base_uri": "https://localhost:8080/"
        },
        "id": "EEvaLR9LiqKu",
        "outputId": "18844543-b7c5-417e-b7fa-2801deff0205"
      },
      "source": [
        "# Melatih model dengan data training\n",
        "model = KNeighborsClassifier(n_neighbors=59, leaf_size=30)\n",
        "model.fit(X_train,y_train)"
      ],
      "execution_count": 59,
      "outputs": [
        {
          "output_type": "execute_result",
          "data": {
            "text/plain": [
              "KNeighborsClassifier(algorithm='auto', leaf_size=30, metric='minkowski',\n",
              "                     metric_params=None, n_jobs=None, n_neighbors=59, p=2,\n",
              "                     weights='uniform')"
            ]
          },
          "metadata": {},
          "execution_count": 59
        }
      ]
    },
    {
      "cell_type": "code",
      "metadata": {
        "id": "8k4_9syWKaE6"
      },
      "source": [
        "# Memprediksi data testing dengan model \n",
        "y_pred = model.predict(X_test)"
      ],
      "execution_count": 60,
      "outputs": []
    },
    {
      "cell_type": "markdown",
      "metadata": {
        "id": "j44KP-V72J_g"
      },
      "source": [
        "# Accuracy Score"
      ]
    },
    {
      "cell_type": "code",
      "metadata": {
        "colab": {
          "base_uri": "https://localhost:8080/"
        },
        "id": "jY_NIFXzKh-b",
        "outputId": "0c6967ed-3586-4d72-c451-03473d12e378"
      },
      "source": [
        "#Import modul scikit-learn metrics \n",
        "from sklearn import metrics\n",
        "# Model Accuracy\n",
        "print(\"Accuracy:\",metrics.accuracy_score(y_test, y_pred))"
      ],
      "execution_count": 58,
      "outputs": [
        {
          "output_type": "stream",
          "name": "stdout",
          "text": [
            "Accuracy: 0.7922077922077922\n"
          ]
        }
      ]
    }
  ]
}